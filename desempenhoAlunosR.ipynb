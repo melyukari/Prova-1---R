{
  "nbformat": 4,
  "nbformat_minor": 0,
  "metadata": {
    "colab": {
      "provenance": [],
      "include_colab_link": true
    },
    "kernelspec": {
      "name": "ir",
      "display_name": "R"
    },
    "language_info": {
      "name": "R"
    }
  },
  "cells": [
    {
      "cell_type": "markdown",
      "metadata": {
        "id": "view-in-github",
        "colab_type": "text"
      },
      "source": [
        "<a href=\"https://colab.research.google.com/github/melyukari/Prova-1---R/blob/main/desempenhoAlunosR.ipynb\" target=\"_parent\"><img src=\"https://colab.research.google.com/assets/colab-badge.svg\" alt=\"Open In Colab\"/></a>"
      ]
    },
    {
      "cell_type": "code",
      "execution_count": null,
      "metadata": {
        "colab": {
          "base_uri": "https://localhost:8080/"
        },
        "id": "_u-3i_5oXpTS",
        "outputId": "10f389dd-67d3-4a72-bf00-e6649c257e10"
      },
      "outputs": [
        {
          "output_type": "stream",
          "name": "stderr",
          "text": [
            "Installing package into ‘/usr/local/lib/R/site-library’\n",
            "(as ‘lib’ is unspecified)\n",
            "\n",
            "Installing package into ‘/usr/local/lib/R/site-library’\n",
            "(as ‘lib’ is unspecified)\n",
            "\n",
            "Installing package into ‘/usr/local/lib/R/site-library’\n",
            "(as ‘lib’ is unspecified)\n",
            "\n",
            "also installing the dependency ‘svglite’\n",
            "\n",
            "\n"
          ]
        }
      ],
      "source": [
        "#Instalação dos pacotes\n",
        "install.packages(\"readr\")\n",
        "install.packages(\"knitr\")\n",
        "install.packages(\"kableExtra\")\n",
        "library(\"readr\")"
      ]
    },
    {
      "cell_type": "code",
      "source": [
        "#ler o CSV escolhido\n",
        "dados <- read.csv(\"school perfomance.csv\", sep = \";\", header = TRUE)\n",
        "head(dados)"
      ],
      "metadata": {
        "colab": {
          "base_uri": "https://localhost:8080/",
          "height": 306
        },
        "id": "MO7o4MK6YOys",
        "outputId": "6f7dec6d-0f2b-4498-aca6-6c29719b2bfa",
        "collapsed": true
      },
      "execution_count": null,
      "outputs": [
        {
          "output_type": "display_data",
          "data": {
            "text/html": [
              "<table class=\"dataframe\">\n",
              "<caption>A data.frame: 6 × 33</caption>\n",
              "<thead>\n",
              "\t<tr><th></th><th scope=col>school</th><th scope=col>sex</th><th scope=col>age</th><th scope=col>address</th><th scope=col>famsize</th><th scope=col>Pstatus</th><th scope=col>Medu</th><th scope=col>Fedu</th><th scope=col>Mjob</th><th scope=col>Fjob</th><th scope=col>⋯</th><th scope=col>famrel</th><th scope=col>freetime</th><th scope=col>goout</th><th scope=col>Dalc</th><th scope=col>Walc</th><th scope=col>health</th><th scope=col>absences</th><th scope=col>G1</th><th scope=col>G2</th><th scope=col>G3</th></tr>\n",
              "\t<tr><th></th><th scope=col>&lt;chr&gt;</th><th scope=col>&lt;chr&gt;</th><th scope=col>&lt;int&gt;</th><th scope=col>&lt;chr&gt;</th><th scope=col>&lt;chr&gt;</th><th scope=col>&lt;chr&gt;</th><th scope=col>&lt;int&gt;</th><th scope=col>&lt;int&gt;</th><th scope=col>&lt;chr&gt;</th><th scope=col>&lt;chr&gt;</th><th scope=col>⋯</th><th scope=col>&lt;int&gt;</th><th scope=col>&lt;int&gt;</th><th scope=col>&lt;int&gt;</th><th scope=col>&lt;int&gt;</th><th scope=col>&lt;int&gt;</th><th scope=col>&lt;int&gt;</th><th scope=col>&lt;int&gt;</th><th scope=col>&lt;int&gt;</th><th scope=col>&lt;int&gt;</th><th scope=col>&lt;int&gt;</th></tr>\n",
              "</thead>\n",
              "<tbody>\n",
              "\t<tr><th scope=row>1</th><td>GP</td><td>F</td><td>18</td><td>U</td><td>GT3</td><td>A</td><td>4</td><td>4</td><td>at_home </td><td>teacher </td><td>⋯</td><td>4</td><td>3</td><td>4</td><td>1</td><td>1</td><td>3</td><td> 6</td><td> 5</td><td> 6</td><td> 6</td></tr>\n",
              "\t<tr><th scope=row>2</th><td>GP</td><td>F</td><td>17</td><td>U</td><td>GT3</td><td>T</td><td>1</td><td>1</td><td>at_home </td><td>other   </td><td>⋯</td><td>5</td><td>3</td><td>3</td><td>1</td><td>1</td><td>3</td><td> 4</td><td> 5</td><td> 5</td><td> 6</td></tr>\n",
              "\t<tr><th scope=row>3</th><td>GP</td><td>F</td><td>15</td><td>U</td><td>LE3</td><td>T</td><td>1</td><td>1</td><td>at_home </td><td>other   </td><td>⋯</td><td>4</td><td>3</td><td>2</td><td>2</td><td>3</td><td>3</td><td>10</td><td> 7</td><td> 8</td><td>10</td></tr>\n",
              "\t<tr><th scope=row>4</th><td>GP</td><td>F</td><td>15</td><td>U</td><td>GT3</td><td>T</td><td>4</td><td>2</td><td>health  </td><td>services</td><td>⋯</td><td>3</td><td>2</td><td>2</td><td>1</td><td>1</td><td>5</td><td> 2</td><td>15</td><td>14</td><td>15</td></tr>\n",
              "\t<tr><th scope=row>5</th><td>GP</td><td>F</td><td>16</td><td>U</td><td>GT3</td><td>T</td><td>3</td><td>3</td><td>other   </td><td>other   </td><td>⋯</td><td>4</td><td>3</td><td>2</td><td>1</td><td>2</td><td>5</td><td> 4</td><td> 6</td><td>10</td><td>10</td></tr>\n",
              "\t<tr><th scope=row>6</th><td>GP</td><td>M</td><td>16</td><td>U</td><td>LE3</td><td>T</td><td>4</td><td>3</td><td>services</td><td>other   </td><td>⋯</td><td>5</td><td>4</td><td>2</td><td>1</td><td>2</td><td>5</td><td>10</td><td>15</td><td>15</td><td>15</td></tr>\n",
              "</tbody>\n",
              "</table>\n"
            ],
            "text/markdown": "\nA data.frame: 6 × 33\n\n| <!--/--> | school &lt;chr&gt; | sex &lt;chr&gt; | age &lt;int&gt; | address &lt;chr&gt; | famsize &lt;chr&gt; | Pstatus &lt;chr&gt; | Medu &lt;int&gt; | Fedu &lt;int&gt; | Mjob &lt;chr&gt; | Fjob &lt;chr&gt; | ⋯ ⋯ | famrel &lt;int&gt; | freetime &lt;int&gt; | goout &lt;int&gt; | Dalc &lt;int&gt; | Walc &lt;int&gt; | health &lt;int&gt; | absences &lt;int&gt; | G1 &lt;int&gt; | G2 &lt;int&gt; | G3 &lt;int&gt; |\n|---|---|---|---|---|---|---|---|---|---|---|---|---|---|---|---|---|---|---|---|---|---|\n| 1 | GP | F | 18 | U | GT3 | A | 4 | 4 | at_home  | teacher  | ⋯ | 4 | 3 | 4 | 1 | 1 | 3 |  6 |  5 |  6 |  6 |\n| 2 | GP | F | 17 | U | GT3 | T | 1 | 1 | at_home  | other    | ⋯ | 5 | 3 | 3 | 1 | 1 | 3 |  4 |  5 |  5 |  6 |\n| 3 | GP | F | 15 | U | LE3 | T | 1 | 1 | at_home  | other    | ⋯ | 4 | 3 | 2 | 2 | 3 | 3 | 10 |  7 |  8 | 10 |\n| 4 | GP | F | 15 | U | GT3 | T | 4 | 2 | health   | services | ⋯ | 3 | 2 | 2 | 1 | 1 | 5 |  2 | 15 | 14 | 15 |\n| 5 | GP | F | 16 | U | GT3 | T | 3 | 3 | other    | other    | ⋯ | 4 | 3 | 2 | 1 | 2 | 5 |  4 |  6 | 10 | 10 |\n| 6 | GP | M | 16 | U | LE3 | T | 4 | 3 | services | other    | ⋯ | 5 | 4 | 2 | 1 | 2 | 5 | 10 | 15 | 15 | 15 |\n\n",
            "text/latex": "A data.frame: 6 × 33\n\\begin{tabular}{r|lllllllllllllllllllll}\n  & school & sex & age & address & famsize & Pstatus & Medu & Fedu & Mjob & Fjob & ⋯ & famrel & freetime & goout & Dalc & Walc & health & absences & G1 & G2 & G3\\\\\n  & <chr> & <chr> & <int> & <chr> & <chr> & <chr> & <int> & <int> & <chr> & <chr> & ⋯ & <int> & <int> & <int> & <int> & <int> & <int> & <int> & <int> & <int> & <int>\\\\\n\\hline\n\t1 & GP & F & 18 & U & GT3 & A & 4 & 4 & at\\_home  & teacher  & ⋯ & 4 & 3 & 4 & 1 & 1 & 3 &  6 &  5 &  6 &  6\\\\\n\t2 & GP & F & 17 & U & GT3 & T & 1 & 1 & at\\_home  & other    & ⋯ & 5 & 3 & 3 & 1 & 1 & 3 &  4 &  5 &  5 &  6\\\\\n\t3 & GP & F & 15 & U & LE3 & T & 1 & 1 & at\\_home  & other    & ⋯ & 4 & 3 & 2 & 2 & 3 & 3 & 10 &  7 &  8 & 10\\\\\n\t4 & GP & F & 15 & U & GT3 & T & 4 & 2 & health   & services & ⋯ & 3 & 2 & 2 & 1 & 1 & 5 &  2 & 15 & 14 & 15\\\\\n\t5 & GP & F & 16 & U & GT3 & T & 3 & 3 & other    & other    & ⋯ & 4 & 3 & 2 & 1 & 2 & 5 &  4 &  6 & 10 & 10\\\\\n\t6 & GP & M & 16 & U & LE3 & T & 4 & 3 & services & other    & ⋯ & 5 & 4 & 2 & 1 & 2 & 5 & 10 & 15 & 15 & 15\\\\\n\\end{tabular}\n",
            "text/plain": [
              "  school sex age address famsize Pstatus Medu Fedu Mjob     Fjob     ⋯ famrel\n",
              "1 GP     F   18  U       GT3     A       4    4    at_home  teacher  ⋯ 4     \n",
              "2 GP     F   17  U       GT3     T       1    1    at_home  other    ⋯ 5     \n",
              "3 GP     F   15  U       LE3     T       1    1    at_home  other    ⋯ 4     \n",
              "4 GP     F   15  U       GT3     T       4    2    health   services ⋯ 3     \n",
              "5 GP     F   16  U       GT3     T       3    3    other    other    ⋯ 4     \n",
              "6 GP     M   16  U       LE3     T       4    3    services other    ⋯ 5     \n",
              "  freetime goout Dalc Walc health absences G1 G2 G3\n",
              "1 3        4     1    1    3       6        5  6  6\n",
              "2 3        3     1    1    3       4        5  5  6\n",
              "3 3        2     2    3    3      10        7  8 10\n",
              "4 2        2     1    1    5       2       15 14 15\n",
              "5 3        2     1    2    5       4        6 10 10\n",
              "6 4        2     1    2    5      10       15 15 15"
            ]
          },
          "metadata": {}
        }
      ]
    },
    {
      "cell_type": "code",
      "source": [
        "#Ver o nome das colunas do csv\n",
        "tolower(names(dados))"
      ],
      "metadata": {
        "colab": {
          "base_uri": "https://localhost:8080/",
          "height": 69
        },
        "id": "tHmThkqwYi0I",
        "outputId": "065837f9-df8e-4d07-be2e-765da3b18244"
      },
      "execution_count": null,
      "outputs": [
        {
          "output_type": "display_data",
          "data": {
            "text/html": [
              "<style>\n",
              ".list-inline {list-style: none; margin:0; padding: 0}\n",
              ".list-inline>li {display: inline-block}\n",
              ".list-inline>li:not(:last-child)::after {content: \"\\00b7\"; padding: 0 .5ex}\n",
              "</style>\n",
              "<ol class=list-inline><li>'school'</li><li>'sex'</li><li>'age'</li><li>'address'</li><li>'famsize'</li><li>'pstatus'</li><li>'medu'</li><li>'fedu'</li><li>'mjob'</li><li>'fjob'</li><li>'reason'</li><li>'guardian'</li><li>'traveltime'</li><li>'studytime'</li><li>'failures'</li><li>'schoolsup'</li><li>'famsup'</li><li>'paid'</li><li>'activities'</li><li>'nursery'</li><li>'higher'</li><li>'internet'</li><li>'romantic'</li><li>'famrel'</li><li>'freetime'</li><li>'goout'</li><li>'dalc'</li><li>'walc'</li><li>'health'</li><li>'absences'</li><li>'g1'</li><li>'g2'</li><li>'g3'</li></ol>\n"
            ],
            "text/markdown": "1. 'school'\n2. 'sex'\n3. 'age'\n4. 'address'\n5. 'famsize'\n6. 'pstatus'\n7. 'medu'\n8. 'fedu'\n9. 'mjob'\n10. 'fjob'\n11. 'reason'\n12. 'guardian'\n13. 'traveltime'\n14. 'studytime'\n15. 'failures'\n16. 'schoolsup'\n17. 'famsup'\n18. 'paid'\n19. 'activities'\n20. 'nursery'\n21. 'higher'\n22. 'internet'\n23. 'romantic'\n24. 'famrel'\n25. 'freetime'\n26. 'goout'\n27. 'dalc'\n28. 'walc'\n29. 'health'\n30. 'absences'\n31. 'g1'\n32. 'g2'\n33. 'g3'\n\n\n",
            "text/latex": "\\begin{enumerate*}\n\\item 'school'\n\\item 'sex'\n\\item 'age'\n\\item 'address'\n\\item 'famsize'\n\\item 'pstatus'\n\\item 'medu'\n\\item 'fedu'\n\\item 'mjob'\n\\item 'fjob'\n\\item 'reason'\n\\item 'guardian'\n\\item 'traveltime'\n\\item 'studytime'\n\\item 'failures'\n\\item 'schoolsup'\n\\item 'famsup'\n\\item 'paid'\n\\item 'activities'\n\\item 'nursery'\n\\item 'higher'\n\\item 'internet'\n\\item 'romantic'\n\\item 'famrel'\n\\item 'freetime'\n\\item 'goout'\n\\item 'dalc'\n\\item 'walc'\n\\item 'health'\n\\item 'absences'\n\\item 'g1'\n\\item 'g2'\n\\item 'g3'\n\\end{enumerate*}\n",
            "text/plain": [
              " [1] \"school\"     \"sex\"        \"age\"        \"address\"    \"famsize\"   \n",
              " [6] \"pstatus\"    \"medu\"       \"fedu\"       \"mjob\"       \"fjob\"      \n",
              "[11] \"reason\"     \"guardian\"   \"traveltime\" \"studytime\"  \"failures\"  \n",
              "[16] \"schoolsup\"  \"famsup\"     \"paid\"       \"activities\" \"nursery\"   \n",
              "[21] \"higher\"     \"internet\"   \"romantic\"   \"famrel\"     \"freetime\"  \n",
              "[26] \"goout\"      \"dalc\"       \"walc\"       \"health\"     \"absences\"  \n",
              "[31] \"g1\"         \"g2\"         \"g3\"        "
            ]
          },
          "metadata": {}
        }
      ]
    },
    {
      "cell_type": "code",
      "source": [
        "#Deixar todos os nomes em minusculas\n",
        "names(dados) <- tolower(names(dados))\n",
        "head(dados)"
      ],
      "metadata": {
        "colab": {
          "base_uri": "https://localhost:8080/",
          "height": 306
        },
        "id": "9wQHdrYKYu0E",
        "outputId": "4845295e-a4ac-4607-a959-ee7604d93dfa"
      },
      "execution_count": null,
      "outputs": [
        {
          "output_type": "display_data",
          "data": {
            "text/html": [
              "<table class=\"dataframe\">\n",
              "<caption>A data.frame: 6 × 33</caption>\n",
              "<thead>\n",
              "\t<tr><th></th><th scope=col>school</th><th scope=col>sex</th><th scope=col>age</th><th scope=col>address</th><th scope=col>famsize</th><th scope=col>pstatus</th><th scope=col>medu</th><th scope=col>fedu</th><th scope=col>mjob</th><th scope=col>fjob</th><th scope=col>⋯</th><th scope=col>famrel</th><th scope=col>freetime</th><th scope=col>goout</th><th scope=col>dalc</th><th scope=col>walc</th><th scope=col>health</th><th scope=col>absences</th><th scope=col>g1</th><th scope=col>g2</th><th scope=col>g3</th></tr>\n",
              "\t<tr><th></th><th scope=col>&lt;chr&gt;</th><th scope=col>&lt;chr&gt;</th><th scope=col>&lt;int&gt;</th><th scope=col>&lt;chr&gt;</th><th scope=col>&lt;chr&gt;</th><th scope=col>&lt;chr&gt;</th><th scope=col>&lt;int&gt;</th><th scope=col>&lt;int&gt;</th><th scope=col>&lt;chr&gt;</th><th scope=col>&lt;chr&gt;</th><th scope=col>⋯</th><th scope=col>&lt;int&gt;</th><th scope=col>&lt;int&gt;</th><th scope=col>&lt;int&gt;</th><th scope=col>&lt;int&gt;</th><th scope=col>&lt;int&gt;</th><th scope=col>&lt;int&gt;</th><th scope=col>&lt;int&gt;</th><th scope=col>&lt;int&gt;</th><th scope=col>&lt;int&gt;</th><th scope=col>&lt;int&gt;</th></tr>\n",
              "</thead>\n",
              "<tbody>\n",
              "\t<tr><th scope=row>1</th><td>GP</td><td>F</td><td>18</td><td>U</td><td>GT3</td><td>A</td><td>4</td><td>4</td><td>at_home </td><td>teacher </td><td>⋯</td><td>4</td><td>3</td><td>4</td><td>1</td><td>1</td><td>3</td><td> 6</td><td> 5</td><td> 6</td><td> 6</td></tr>\n",
              "\t<tr><th scope=row>2</th><td>GP</td><td>F</td><td>17</td><td>U</td><td>GT3</td><td>T</td><td>1</td><td>1</td><td>at_home </td><td>other   </td><td>⋯</td><td>5</td><td>3</td><td>3</td><td>1</td><td>1</td><td>3</td><td> 4</td><td> 5</td><td> 5</td><td> 6</td></tr>\n",
              "\t<tr><th scope=row>3</th><td>GP</td><td>F</td><td>15</td><td>U</td><td>LE3</td><td>T</td><td>1</td><td>1</td><td>at_home </td><td>other   </td><td>⋯</td><td>4</td><td>3</td><td>2</td><td>2</td><td>3</td><td>3</td><td>10</td><td> 7</td><td> 8</td><td>10</td></tr>\n",
              "\t<tr><th scope=row>4</th><td>GP</td><td>F</td><td>15</td><td>U</td><td>GT3</td><td>T</td><td>4</td><td>2</td><td>health  </td><td>services</td><td>⋯</td><td>3</td><td>2</td><td>2</td><td>1</td><td>1</td><td>5</td><td> 2</td><td>15</td><td>14</td><td>15</td></tr>\n",
              "\t<tr><th scope=row>5</th><td>GP</td><td>F</td><td>16</td><td>U</td><td>GT3</td><td>T</td><td>3</td><td>3</td><td>other   </td><td>other   </td><td>⋯</td><td>4</td><td>3</td><td>2</td><td>1</td><td>2</td><td>5</td><td> 4</td><td> 6</td><td>10</td><td>10</td></tr>\n",
              "\t<tr><th scope=row>6</th><td>GP</td><td>M</td><td>16</td><td>U</td><td>LE3</td><td>T</td><td>4</td><td>3</td><td>services</td><td>other   </td><td>⋯</td><td>5</td><td>4</td><td>2</td><td>1</td><td>2</td><td>5</td><td>10</td><td>15</td><td>15</td><td>15</td></tr>\n",
              "</tbody>\n",
              "</table>\n"
            ],
            "text/markdown": "\nA data.frame: 6 × 33\n\n| <!--/--> | school &lt;chr&gt; | sex &lt;chr&gt; | age &lt;int&gt; | address &lt;chr&gt; | famsize &lt;chr&gt; | pstatus &lt;chr&gt; | medu &lt;int&gt; | fedu &lt;int&gt; | mjob &lt;chr&gt; | fjob &lt;chr&gt; | ⋯ ⋯ | famrel &lt;int&gt; | freetime &lt;int&gt; | goout &lt;int&gt; | dalc &lt;int&gt; | walc &lt;int&gt; | health &lt;int&gt; | absences &lt;int&gt; | g1 &lt;int&gt; | g2 &lt;int&gt; | g3 &lt;int&gt; |\n|---|---|---|---|---|---|---|---|---|---|---|---|---|---|---|---|---|---|---|---|---|---|\n| 1 | GP | F | 18 | U | GT3 | A | 4 | 4 | at_home  | teacher  | ⋯ | 4 | 3 | 4 | 1 | 1 | 3 |  6 |  5 |  6 |  6 |\n| 2 | GP | F | 17 | U | GT3 | T | 1 | 1 | at_home  | other    | ⋯ | 5 | 3 | 3 | 1 | 1 | 3 |  4 |  5 |  5 |  6 |\n| 3 | GP | F | 15 | U | LE3 | T | 1 | 1 | at_home  | other    | ⋯ | 4 | 3 | 2 | 2 | 3 | 3 | 10 |  7 |  8 | 10 |\n| 4 | GP | F | 15 | U | GT3 | T | 4 | 2 | health   | services | ⋯ | 3 | 2 | 2 | 1 | 1 | 5 |  2 | 15 | 14 | 15 |\n| 5 | GP | F | 16 | U | GT3 | T | 3 | 3 | other    | other    | ⋯ | 4 | 3 | 2 | 1 | 2 | 5 |  4 |  6 | 10 | 10 |\n| 6 | GP | M | 16 | U | LE3 | T | 4 | 3 | services | other    | ⋯ | 5 | 4 | 2 | 1 | 2 | 5 | 10 | 15 | 15 | 15 |\n\n",
            "text/latex": "A data.frame: 6 × 33\n\\begin{tabular}{r|lllllllllllllllllllll}\n  & school & sex & age & address & famsize & pstatus & medu & fedu & mjob & fjob & ⋯ & famrel & freetime & goout & dalc & walc & health & absences & g1 & g2 & g3\\\\\n  & <chr> & <chr> & <int> & <chr> & <chr> & <chr> & <int> & <int> & <chr> & <chr> & ⋯ & <int> & <int> & <int> & <int> & <int> & <int> & <int> & <int> & <int> & <int>\\\\\n\\hline\n\t1 & GP & F & 18 & U & GT3 & A & 4 & 4 & at\\_home  & teacher  & ⋯ & 4 & 3 & 4 & 1 & 1 & 3 &  6 &  5 &  6 &  6\\\\\n\t2 & GP & F & 17 & U & GT3 & T & 1 & 1 & at\\_home  & other    & ⋯ & 5 & 3 & 3 & 1 & 1 & 3 &  4 &  5 &  5 &  6\\\\\n\t3 & GP & F & 15 & U & LE3 & T & 1 & 1 & at\\_home  & other    & ⋯ & 4 & 3 & 2 & 2 & 3 & 3 & 10 &  7 &  8 & 10\\\\\n\t4 & GP & F & 15 & U & GT3 & T & 4 & 2 & health   & services & ⋯ & 3 & 2 & 2 & 1 & 1 & 5 &  2 & 15 & 14 & 15\\\\\n\t5 & GP & F & 16 & U & GT3 & T & 3 & 3 & other    & other    & ⋯ & 4 & 3 & 2 & 1 & 2 & 5 &  4 &  6 & 10 & 10\\\\\n\t6 & GP & M & 16 & U & LE3 & T & 4 & 3 & services & other    & ⋯ & 5 & 4 & 2 & 1 & 2 & 5 & 10 & 15 & 15 & 15\\\\\n\\end{tabular}\n",
            "text/plain": [
              "  school sex age address famsize pstatus medu fedu mjob     fjob     ⋯ famrel\n",
              "1 GP     F   18  U       GT3     A       4    4    at_home  teacher  ⋯ 4     \n",
              "2 GP     F   17  U       GT3     T       1    1    at_home  other    ⋯ 5     \n",
              "3 GP     F   15  U       LE3     T       1    1    at_home  other    ⋯ 4     \n",
              "4 GP     F   15  U       GT3     T       4    2    health   services ⋯ 3     \n",
              "5 GP     F   16  U       GT3     T       3    3    other    other    ⋯ 4     \n",
              "6 GP     M   16  U       LE3     T       4    3    services other    ⋯ 5     \n",
              "  freetime goout dalc walc health absences g1 g2 g3\n",
              "1 3        4     1    1    3       6        5  6  6\n",
              "2 3        3     1    1    3       4        5  5  6\n",
              "3 3        2     2    3    3      10        7  8 10\n",
              "4 2        2     1    1    5       2       15 14 15\n",
              "5 3        2     1    2    5       4        6 10 10\n",
              "6 4        2     1    2    5      10       15 15 15"
            ]
          },
          "metadata": {}
        }
      ]
    },
    {
      "cell_type": "markdown",
      "source": [
        "## **Transformação dos Dados**"
      ],
      "metadata": {
        "id": "GdVmD46TR_Vb"
      }
    },
    {
      "cell_type": "code",
      "source": [
        "#Transformar os dados qualitativos nominais -> factor\n",
        "dados$school <- factor(dados$school)\n",
        "dados$sex <- factor(dados$sex)\n",
        "dados$address <- factor(dados$address)\n",
        "dados$famsize <- factor(dados$famsize)\n",
        "dados$pstatus <- factor(dados$pstatus)\n",
        "dados$mjob <- factor(dados$mjob)\n",
        "dados$fjob <- factor(dados$fjob)\n",
        "dados$reason <- factor(dados$reason)\n",
        "dados$guardian <- factor(dados$guardian)\n",
        "dados$schoolsup <- factor(dados$schoolsup)\n",
        "dados$famsup <- factor(dados$famsup)\n",
        "dados$paid <- factor(dados$paid)\n",
        "dados$activities <- factor(dados$activities)\n",
        "dados$nursery <- factor(dados$nursery)\n",
        "dados$higher <- factor(dados$higher)\n",
        "dados$internet <- factor(dados$internet)\n",
        "dados$romantic <- factor(dados$romantic)\n",
        "head(dados)"
      ],
      "metadata": {
        "colab": {
          "base_uri": "https://localhost:8080/",
          "height": 306
        },
        "id": "38_D51jtY5jA",
        "outputId": "dfd8f7a8-2d17-468d-9af8-7c29b16242a7"
      },
      "execution_count": null,
      "outputs": [
        {
          "output_type": "display_data",
          "data": {
            "text/html": [
              "<table class=\"dataframe\">\n",
              "<caption>A data.frame: 6 × 33</caption>\n",
              "<thead>\n",
              "\t<tr><th></th><th scope=col>school</th><th scope=col>sex</th><th scope=col>age</th><th scope=col>address</th><th scope=col>famsize</th><th scope=col>pstatus</th><th scope=col>medu</th><th scope=col>fedu</th><th scope=col>mjob</th><th scope=col>fjob</th><th scope=col>⋯</th><th scope=col>famrel</th><th scope=col>freetime</th><th scope=col>goout</th><th scope=col>dalc</th><th scope=col>walc</th><th scope=col>health</th><th scope=col>absences</th><th scope=col>g1</th><th scope=col>g2</th><th scope=col>g3</th></tr>\n",
              "\t<tr><th></th><th scope=col>&lt;fct&gt;</th><th scope=col>&lt;fct&gt;</th><th scope=col>&lt;int&gt;</th><th scope=col>&lt;fct&gt;</th><th scope=col>&lt;fct&gt;</th><th scope=col>&lt;fct&gt;</th><th scope=col>&lt;int&gt;</th><th scope=col>&lt;int&gt;</th><th scope=col>&lt;fct&gt;</th><th scope=col>&lt;fct&gt;</th><th scope=col>⋯</th><th scope=col>&lt;int&gt;</th><th scope=col>&lt;int&gt;</th><th scope=col>&lt;int&gt;</th><th scope=col>&lt;int&gt;</th><th scope=col>&lt;int&gt;</th><th scope=col>&lt;int&gt;</th><th scope=col>&lt;int&gt;</th><th scope=col>&lt;int&gt;</th><th scope=col>&lt;int&gt;</th><th scope=col>&lt;int&gt;</th></tr>\n",
              "</thead>\n",
              "<tbody>\n",
              "\t<tr><th scope=row>1</th><td>GP</td><td>F</td><td>18</td><td>U</td><td>GT3</td><td>A</td><td>4</td><td>4</td><td>at_home </td><td>teacher </td><td>⋯</td><td>4</td><td>3</td><td>4</td><td>1</td><td>1</td><td>3</td><td> 6</td><td> 5</td><td> 6</td><td> 6</td></tr>\n",
              "\t<tr><th scope=row>2</th><td>GP</td><td>F</td><td>17</td><td>U</td><td>GT3</td><td>T</td><td>1</td><td>1</td><td>at_home </td><td>other   </td><td>⋯</td><td>5</td><td>3</td><td>3</td><td>1</td><td>1</td><td>3</td><td> 4</td><td> 5</td><td> 5</td><td> 6</td></tr>\n",
              "\t<tr><th scope=row>3</th><td>GP</td><td>F</td><td>15</td><td>U</td><td>LE3</td><td>T</td><td>1</td><td>1</td><td>at_home </td><td>other   </td><td>⋯</td><td>4</td><td>3</td><td>2</td><td>2</td><td>3</td><td>3</td><td>10</td><td> 7</td><td> 8</td><td>10</td></tr>\n",
              "\t<tr><th scope=row>4</th><td>GP</td><td>F</td><td>15</td><td>U</td><td>GT3</td><td>T</td><td>4</td><td>2</td><td>health  </td><td>services</td><td>⋯</td><td>3</td><td>2</td><td>2</td><td>1</td><td>1</td><td>5</td><td> 2</td><td>15</td><td>14</td><td>15</td></tr>\n",
              "\t<tr><th scope=row>5</th><td>GP</td><td>F</td><td>16</td><td>U</td><td>GT3</td><td>T</td><td>3</td><td>3</td><td>other   </td><td>other   </td><td>⋯</td><td>4</td><td>3</td><td>2</td><td>1</td><td>2</td><td>5</td><td> 4</td><td> 6</td><td>10</td><td>10</td></tr>\n",
              "\t<tr><th scope=row>6</th><td>GP</td><td>M</td><td>16</td><td>U</td><td>LE3</td><td>T</td><td>4</td><td>3</td><td>services</td><td>other   </td><td>⋯</td><td>5</td><td>4</td><td>2</td><td>1</td><td>2</td><td>5</td><td>10</td><td>15</td><td>15</td><td>15</td></tr>\n",
              "</tbody>\n",
              "</table>\n"
            ],
            "text/markdown": "\nA data.frame: 6 × 33\n\n| <!--/--> | school &lt;fct&gt; | sex &lt;fct&gt; | age &lt;int&gt; | address &lt;fct&gt; | famsize &lt;fct&gt; | pstatus &lt;fct&gt; | medu &lt;int&gt; | fedu &lt;int&gt; | mjob &lt;fct&gt; | fjob &lt;fct&gt; | ⋯ ⋯ | famrel &lt;int&gt; | freetime &lt;int&gt; | goout &lt;int&gt; | dalc &lt;int&gt; | walc &lt;int&gt; | health &lt;int&gt; | absences &lt;int&gt; | g1 &lt;int&gt; | g2 &lt;int&gt; | g3 &lt;int&gt; |\n|---|---|---|---|---|---|---|---|---|---|---|---|---|---|---|---|---|---|---|---|---|---|\n| 1 | GP | F | 18 | U | GT3 | A | 4 | 4 | at_home  | teacher  | ⋯ | 4 | 3 | 4 | 1 | 1 | 3 |  6 |  5 |  6 |  6 |\n| 2 | GP | F | 17 | U | GT3 | T | 1 | 1 | at_home  | other    | ⋯ | 5 | 3 | 3 | 1 | 1 | 3 |  4 |  5 |  5 |  6 |\n| 3 | GP | F | 15 | U | LE3 | T | 1 | 1 | at_home  | other    | ⋯ | 4 | 3 | 2 | 2 | 3 | 3 | 10 |  7 |  8 | 10 |\n| 4 | GP | F | 15 | U | GT3 | T | 4 | 2 | health   | services | ⋯ | 3 | 2 | 2 | 1 | 1 | 5 |  2 | 15 | 14 | 15 |\n| 5 | GP | F | 16 | U | GT3 | T | 3 | 3 | other    | other    | ⋯ | 4 | 3 | 2 | 1 | 2 | 5 |  4 |  6 | 10 | 10 |\n| 6 | GP | M | 16 | U | LE3 | T | 4 | 3 | services | other    | ⋯ | 5 | 4 | 2 | 1 | 2 | 5 | 10 | 15 | 15 | 15 |\n\n",
            "text/latex": "A data.frame: 6 × 33\n\\begin{tabular}{r|lllllllllllllllllllll}\n  & school & sex & age & address & famsize & pstatus & medu & fedu & mjob & fjob & ⋯ & famrel & freetime & goout & dalc & walc & health & absences & g1 & g2 & g3\\\\\n  & <fct> & <fct> & <int> & <fct> & <fct> & <fct> & <int> & <int> & <fct> & <fct> & ⋯ & <int> & <int> & <int> & <int> & <int> & <int> & <int> & <int> & <int> & <int>\\\\\n\\hline\n\t1 & GP & F & 18 & U & GT3 & A & 4 & 4 & at\\_home  & teacher  & ⋯ & 4 & 3 & 4 & 1 & 1 & 3 &  6 &  5 &  6 &  6\\\\\n\t2 & GP & F & 17 & U & GT3 & T & 1 & 1 & at\\_home  & other    & ⋯ & 5 & 3 & 3 & 1 & 1 & 3 &  4 &  5 &  5 &  6\\\\\n\t3 & GP & F & 15 & U & LE3 & T & 1 & 1 & at\\_home  & other    & ⋯ & 4 & 3 & 2 & 2 & 3 & 3 & 10 &  7 &  8 & 10\\\\\n\t4 & GP & F & 15 & U & GT3 & T & 4 & 2 & health   & services & ⋯ & 3 & 2 & 2 & 1 & 1 & 5 &  2 & 15 & 14 & 15\\\\\n\t5 & GP & F & 16 & U & GT3 & T & 3 & 3 & other    & other    & ⋯ & 4 & 3 & 2 & 1 & 2 & 5 &  4 &  6 & 10 & 10\\\\\n\t6 & GP & M & 16 & U & LE3 & T & 4 & 3 & services & other    & ⋯ & 5 & 4 & 2 & 1 & 2 & 5 & 10 & 15 & 15 & 15\\\\\n\\end{tabular}\n",
            "text/plain": [
              "  school sex age address famsize pstatus medu fedu mjob     fjob     ⋯ famrel\n",
              "1 GP     F   18  U       GT3     A       4    4    at_home  teacher  ⋯ 4     \n",
              "2 GP     F   17  U       GT3     T       1    1    at_home  other    ⋯ 5     \n",
              "3 GP     F   15  U       LE3     T       1    1    at_home  other    ⋯ 4     \n",
              "4 GP     F   15  U       GT3     T       4    2    health   services ⋯ 3     \n",
              "5 GP     F   16  U       GT3     T       3    3    other    other    ⋯ 4     \n",
              "6 GP     M   16  U       LE3     T       4    3    services other    ⋯ 5     \n",
              "  freetime goout dalc walc health absences g1 g2 g3\n",
              "1 3        4     1    1    3       6        5  6  6\n",
              "2 3        3     1    1    3       4        5  5  6\n",
              "3 3        2     2    3    3      10        7  8 10\n",
              "4 2        2     1    1    5       2       15 14 15\n",
              "5 3        2     1    2    5       4        6 10 10\n",
              "6 4        2     1    2    5      10       15 15 15"
            ]
          },
          "metadata": {}
        }
      ]
    },
    {
      "cell_type": "code",
      "source": [
        "#Transformar os dados qualitativo ordinal em factor ordenado\n",
        "dados$medu <- factor(as.numeric(as.character(dados$medu)),\n",
        "                     levels = c(0,1,2,3,4),\n",
        "                     labels = c(\"nenhuma\", \"primario\", \"5a9\", \"medio\", \"superior\"),\n",
        "                     ordered = TRUE)\n",
        "\n",
        "dados$fedu <- factor(as.numeric(as.character(dados$fedu)),\n",
        "                     levels = c(0,1,2,3,4),\n",
        "                     labels = c(\"nenhuma\", \"primario\", \"5a9\", \"medio\", \"superior\"),\n",
        "                     ordered = TRUE)\n",
        "\n",
        "dados$traveltime <- factor(as.numeric(as.character(dados$traveltime)),\n",
        "                           levels = c(1,2,3,4),\n",
        "                           labels = c(\"<15m\", \"15-30m\", \"30-60m\", \">1h\"),\n",
        "                           ordered = TRUE)\n",
        "\n",
        "dados$studytime <- factor(as.numeric(as.character(dados$studytime)),\n",
        "                          levels = c(1,2,3,4),\n",
        "                          labels = c(\"<2h\", \"2-5h\", \"5-10h\", \">10h\"),\n",
        "                          ordered = TRUE)\n",
        "\n",
        "dados$failures <- factor(as.numeric(as.character(dados$failures)),\n",
        "                         levels = c(0,1,2,3),\n",
        "                         labels = c(\"0\", \"1\", \"2\", \"3+\"),\n",
        "                         ordered = TRUE)\n",
        "\n",
        "dados$famrel <- factor(as.numeric(as.character(dados$famrel)),\n",
        "                       levels = 1:5,\n",
        "                       labels = c(\"muito_ruim\", \"ruim\", \"regular\", \"boa\", \"excelente\"),\n",
        "                       ordered = TRUE)\n",
        "\n",
        "dados$freetime <- factor(as.numeric(as.character(dados$freetime)),\n",
        "                         levels = 1:5,\n",
        "                         labels = c(\"muito_pouco\", \"pouco\", \"regular\", \"muito\", \"excessivo\"),\n",
        "                         ordered = TRUE)\n",
        "\n",
        "dados$goout <- factor(as.numeric(as.character(dados$goout)),\n",
        "                      levels = 1:5,\n",
        "                      labels = c(\"muito_pouco\", \"pouco\", \"regular\", \"muito\", \"excessivo\"),\n",
        "                      ordered = TRUE)\n",
        "\n",
        "dados$dalc <- factor(as.numeric(as.character(dados$dalc)),\n",
        "                     levels = 1:5,\n",
        "                     labels = c(\"muito_baixo\", \"baixo\", \"moderado\", \"alto\", \"muito_alto\"),\n",
        "                     ordered = TRUE)\n",
        "\n",
        "dados$walc <- factor(as.numeric(as.character(dados$walc)),\n",
        "                     levels = 1:5,\n",
        "                     labels = c(\"muito_baixo\", \"baixo\", \"moderado\", \"alto\", \"muito_alto\"),\n",
        "                     ordered = TRUE)\n",
        "\n",
        "dados$health <- factor(as.numeric(as.character(dados$health)),\n",
        "                       levels = 1:5,\n",
        "                       labels = c(\"muito_ruim\", \"ruim\", \"regular\", \"boa\", \"excelente\"),\n",
        "                       ordered = TRUE)\n",
        "\n",
        "\n"
      ],
      "metadata": {
        "id": "4TSvH83YZGmU"
      },
      "execution_count": null,
      "outputs": []
    },
    {
      "cell_type": "code",
      "source": [
        "str(dados)"
      ],
      "metadata": {
        "colab": {
          "base_uri": "https://localhost:8080/"
        },
        "id": "tRQTFJQybJAe",
        "outputId": "768fae95-6786-43df-8203-49b601bf62ea"
      },
      "execution_count": null,
      "outputs": [
        {
          "output_type": "stream",
          "name": "stdout",
          "text": [
            "'data.frame':\t395 obs. of  33 variables:\n",
            " $ school    : Factor w/ 2 levels \"GP\",\"MS\": 1 1 1 1 1 1 1 1 1 1 ...\n",
            " $ sex       : Factor w/ 2 levels \"F\",\"M\": 1 1 1 1 1 2 2 1 2 2 ...\n",
            " $ age       : int  18 17 15 15 16 16 16 17 15 15 ...\n",
            " $ address   : Factor w/ 2 levels \"R\",\"U\": 2 2 2 2 2 2 2 2 2 2 ...\n",
            " $ famsize   : Factor w/ 2 levels \"GT3\",\"LE3\": 1 1 2 1 1 2 2 1 2 1 ...\n",
            " $ pstatus   : Factor w/ 2 levels \"A\",\"T\": 1 2 2 2 2 2 2 1 1 2 ...\n",
            " $ medu      : Ord.factor w/ 5 levels \"nenhuma\"<\"primario\"<..: 5 2 2 5 4 5 3 5 4 4 ...\n",
            " $ fedu      : Ord.factor w/ 5 levels \"nenhuma\"<\"primario\"<..: 5 2 2 3 4 4 3 5 3 5 ...\n",
            " $ mjob      : Factor w/ 5 levels \"at_home\",\"health\",..: 1 1 1 2 3 4 3 3 4 3 ...\n",
            " $ fjob      : Factor w/ 5 levels \"at_home\",\"health\",..: 5 3 3 4 3 3 3 5 3 3 ...\n",
            " $ reason    : Factor w/ 4 levels \"course\",\"home\",..: 1 1 3 2 2 4 2 2 2 2 ...\n",
            " $ guardian  : Factor w/ 3 levels \"father\",\"mother\",..: 2 1 2 2 1 2 2 2 2 2 ...\n",
            " $ traveltime: Ord.factor w/ 4 levels \"<15m\"<\"15-30m\"<..: 2 1 1 1 1 1 1 2 1 1 ...\n",
            " $ studytime : Ord.factor w/ 4 levels \"<2h\"<\"2-5h\"<\"5-10h\"<..: 2 2 2 3 2 2 2 2 2 2 ...\n",
            " $ failures  : Ord.factor w/ 4 levels \"0\"<\"1\"<\"2\"<\"3+\": 1 1 4 1 1 1 1 1 1 1 ...\n",
            " $ schoolsup : Factor w/ 2 levels \"no\",\"yes\": 2 1 2 1 1 1 1 2 1 1 ...\n",
            " $ famsup    : Factor w/ 2 levels \"no\",\"yes\": 1 2 1 2 2 2 1 2 2 2 ...\n",
            " $ paid      : Factor w/ 2 levels \"no\",\"yes\": 1 1 2 2 2 2 1 1 2 2 ...\n",
            " $ activities: Factor w/ 2 levels \"no\",\"yes\": 1 1 1 2 1 2 1 1 1 2 ...\n",
            " $ nursery   : Factor w/ 2 levels \"no\",\"yes\": 2 1 2 2 2 2 2 2 2 2 ...\n",
            " $ higher    : Factor w/ 2 levels \"no\",\"yes\": 2 2 2 2 2 2 2 2 2 2 ...\n",
            " $ internet  : Factor w/ 2 levels \"no\",\"yes\": 1 2 2 2 1 2 2 1 2 2 ...\n",
            " $ romantic  : Factor w/ 2 levels \"no\",\"yes\": 1 1 1 2 1 1 1 1 1 1 ...\n",
            " $ famrel    : Ord.factor w/ 5 levels \"muito_ruim\"<\"ruim\"<..: 4 5 4 3 4 5 4 4 4 5 ...\n",
            " $ freetime  : Ord.factor w/ 5 levels \"muito_pouco\"<..: 3 3 3 2 3 4 4 1 2 5 ...\n",
            " $ goout     : Ord.factor w/ 5 levels \"muito_pouco\"<..: 4 3 2 2 2 2 4 4 2 1 ...\n",
            " $ dalc      : Ord.factor w/ 5 levels \"muito_baixo\"<..: 1 1 2 1 1 1 1 1 1 1 ...\n",
            " $ walc      : Ord.factor w/ 5 levels \"muito_baixo\"<..: 1 1 3 1 2 2 1 1 1 1 ...\n",
            " $ health    : Ord.factor w/ 5 levels \"muito_ruim\"<\"ruim\"<..: 3 3 3 5 5 5 3 1 1 5 ...\n",
            " $ absences  : int  6 4 10 2 4 10 0 6 0 0 ...\n",
            " $ g1        : int  5 5 7 15 6 15 12 6 16 14 ...\n",
            " $ g2        : int  6 5 8 14 10 15 12 5 18 15 ...\n",
            " $ g3        : int  6 6 10 15 10 15 11 6 19 15 ...\n"
          ]
        }
      ]
    },
    {
      "cell_type": "code",
      "source": [
        "head(dados)"
      ],
      "metadata": {
        "id": "48U7bjAMdFaD",
        "colab": {
          "base_uri": "https://localhost:8080/",
          "height": 306
        },
        "outputId": "9bd31360-17b4-4905-eb62-ec53c4589322"
      },
      "execution_count": null,
      "outputs": [
        {
          "output_type": "display_data",
          "data": {
            "text/html": [
              "<table class=\"dataframe\">\n",
              "<caption>A data.frame: 6 × 33</caption>\n",
              "<thead>\n",
              "\t<tr><th></th><th scope=col>school</th><th scope=col>sex</th><th scope=col>age</th><th scope=col>address</th><th scope=col>famsize</th><th scope=col>pstatus</th><th scope=col>medu</th><th scope=col>fedu</th><th scope=col>mjob</th><th scope=col>fjob</th><th scope=col>⋯</th><th scope=col>famrel</th><th scope=col>freetime</th><th scope=col>goout</th><th scope=col>dalc</th><th scope=col>walc</th><th scope=col>health</th><th scope=col>absences</th><th scope=col>g1</th><th scope=col>g2</th><th scope=col>g3</th></tr>\n",
              "\t<tr><th></th><th scope=col>&lt;fct&gt;</th><th scope=col>&lt;fct&gt;</th><th scope=col>&lt;int&gt;</th><th scope=col>&lt;fct&gt;</th><th scope=col>&lt;fct&gt;</th><th scope=col>&lt;fct&gt;</th><th scope=col>&lt;ord&gt;</th><th scope=col>&lt;ord&gt;</th><th scope=col>&lt;fct&gt;</th><th scope=col>&lt;fct&gt;</th><th scope=col>⋯</th><th scope=col>&lt;ord&gt;</th><th scope=col>&lt;ord&gt;</th><th scope=col>&lt;ord&gt;</th><th scope=col>&lt;ord&gt;</th><th scope=col>&lt;ord&gt;</th><th scope=col>&lt;ord&gt;</th><th scope=col>&lt;int&gt;</th><th scope=col>&lt;int&gt;</th><th scope=col>&lt;int&gt;</th><th scope=col>&lt;int&gt;</th></tr>\n",
              "</thead>\n",
              "<tbody>\n",
              "\t<tr><th scope=row>1</th><td>GP</td><td>F</td><td>18</td><td>U</td><td>GT3</td><td>A</td><td>superior</td><td>superior</td><td>at_home </td><td>teacher </td><td>⋯</td><td>boa      </td><td>regular</td><td>muito  </td><td>muito_baixo</td><td>muito_baixo</td><td>regular  </td><td> 6</td><td> 5</td><td> 6</td><td> 6</td></tr>\n",
              "\t<tr><th scope=row>2</th><td>GP</td><td>F</td><td>17</td><td>U</td><td>GT3</td><td>T</td><td>primario</td><td>primario</td><td>at_home </td><td>other   </td><td>⋯</td><td>excelente</td><td>regular</td><td>regular</td><td>muito_baixo</td><td>muito_baixo</td><td>regular  </td><td> 4</td><td> 5</td><td> 5</td><td> 6</td></tr>\n",
              "\t<tr><th scope=row>3</th><td>GP</td><td>F</td><td>15</td><td>U</td><td>LE3</td><td>T</td><td>primario</td><td>primario</td><td>at_home </td><td>other   </td><td>⋯</td><td>boa      </td><td>regular</td><td>pouco  </td><td>baixo      </td><td>moderado   </td><td>regular  </td><td>10</td><td> 7</td><td> 8</td><td>10</td></tr>\n",
              "\t<tr><th scope=row>4</th><td>GP</td><td>F</td><td>15</td><td>U</td><td>GT3</td><td>T</td><td>superior</td><td>5a9     </td><td>health  </td><td>services</td><td>⋯</td><td>regular  </td><td>pouco  </td><td>pouco  </td><td>muito_baixo</td><td>muito_baixo</td><td>excelente</td><td> 2</td><td>15</td><td>14</td><td>15</td></tr>\n",
              "\t<tr><th scope=row>5</th><td>GP</td><td>F</td><td>16</td><td>U</td><td>GT3</td><td>T</td><td>medio   </td><td>medio   </td><td>other   </td><td>other   </td><td>⋯</td><td>boa      </td><td>regular</td><td>pouco  </td><td>muito_baixo</td><td>baixo      </td><td>excelente</td><td> 4</td><td> 6</td><td>10</td><td>10</td></tr>\n",
              "\t<tr><th scope=row>6</th><td>GP</td><td>M</td><td>16</td><td>U</td><td>LE3</td><td>T</td><td>superior</td><td>medio   </td><td>services</td><td>other   </td><td>⋯</td><td>excelente</td><td>muito  </td><td>pouco  </td><td>muito_baixo</td><td>baixo      </td><td>excelente</td><td>10</td><td>15</td><td>15</td><td>15</td></tr>\n",
              "</tbody>\n",
              "</table>\n"
            ],
            "text/markdown": "\nA data.frame: 6 × 33\n\n| <!--/--> | school &lt;fct&gt; | sex &lt;fct&gt; | age &lt;int&gt; | address &lt;fct&gt; | famsize &lt;fct&gt; | pstatus &lt;fct&gt; | medu &lt;ord&gt; | fedu &lt;ord&gt; | mjob &lt;fct&gt; | fjob &lt;fct&gt; | ⋯ ⋯ | famrel &lt;ord&gt; | freetime &lt;ord&gt; | goout &lt;ord&gt; | dalc &lt;ord&gt; | walc &lt;ord&gt; | health &lt;ord&gt; | absences &lt;int&gt; | g1 &lt;int&gt; | g2 &lt;int&gt; | g3 &lt;int&gt; |\n|---|---|---|---|---|---|---|---|---|---|---|---|---|---|---|---|---|---|---|---|---|---|\n| 1 | GP | F | 18 | U | GT3 | A | superior | superior | at_home  | teacher  | ⋯ | boa       | regular | muito   | muito_baixo | muito_baixo | regular   |  6 |  5 |  6 |  6 |\n| 2 | GP | F | 17 | U | GT3 | T | primario | primario | at_home  | other    | ⋯ | excelente | regular | regular | muito_baixo | muito_baixo | regular   |  4 |  5 |  5 |  6 |\n| 3 | GP | F | 15 | U | LE3 | T | primario | primario | at_home  | other    | ⋯ | boa       | regular | pouco   | baixo       | moderado    | regular   | 10 |  7 |  8 | 10 |\n| 4 | GP | F | 15 | U | GT3 | T | superior | 5a9      | health   | services | ⋯ | regular   | pouco   | pouco   | muito_baixo | muito_baixo | excelente |  2 | 15 | 14 | 15 |\n| 5 | GP | F | 16 | U | GT3 | T | medio    | medio    | other    | other    | ⋯ | boa       | regular | pouco   | muito_baixo | baixo       | excelente |  4 |  6 | 10 | 10 |\n| 6 | GP | M | 16 | U | LE3 | T | superior | medio    | services | other    | ⋯ | excelente | muito   | pouco   | muito_baixo | baixo       | excelente | 10 | 15 | 15 | 15 |\n\n",
            "text/latex": "A data.frame: 6 × 33\n\\begin{tabular}{r|lllllllllllllllllllll}\n  & school & sex & age & address & famsize & pstatus & medu & fedu & mjob & fjob & ⋯ & famrel & freetime & goout & dalc & walc & health & absences & g1 & g2 & g3\\\\\n  & <fct> & <fct> & <int> & <fct> & <fct> & <fct> & <ord> & <ord> & <fct> & <fct> & ⋯ & <ord> & <ord> & <ord> & <ord> & <ord> & <ord> & <int> & <int> & <int> & <int>\\\\\n\\hline\n\t1 & GP & F & 18 & U & GT3 & A & superior & superior & at\\_home  & teacher  & ⋯ & boa       & regular & muito   & muito\\_baixo & muito\\_baixo & regular   &  6 &  5 &  6 &  6\\\\\n\t2 & GP & F & 17 & U & GT3 & T & primario & primario & at\\_home  & other    & ⋯ & excelente & regular & regular & muito\\_baixo & muito\\_baixo & regular   &  4 &  5 &  5 &  6\\\\\n\t3 & GP & F & 15 & U & LE3 & T & primario & primario & at\\_home  & other    & ⋯ & boa       & regular & pouco   & baixo       & moderado    & regular   & 10 &  7 &  8 & 10\\\\\n\t4 & GP & F & 15 & U & GT3 & T & superior & 5a9      & health   & services & ⋯ & regular   & pouco   & pouco   & muito\\_baixo & muito\\_baixo & excelente &  2 & 15 & 14 & 15\\\\\n\t5 & GP & F & 16 & U & GT3 & T & medio    & medio    & other    & other    & ⋯ & boa       & regular & pouco   & muito\\_baixo & baixo       & excelente &  4 &  6 & 10 & 10\\\\\n\t6 & GP & M & 16 & U & LE3 & T & superior & medio    & services & other    & ⋯ & excelente & muito   & pouco   & muito\\_baixo & baixo       & excelente & 10 & 15 & 15 & 15\\\\\n\\end{tabular}\n",
            "text/plain": [
              "  school sex age address famsize pstatus medu     fedu     mjob     fjob     ⋯\n",
              "1 GP     F   18  U       GT3     A       superior superior at_home  teacher  ⋯\n",
              "2 GP     F   17  U       GT3     T       primario primario at_home  other    ⋯\n",
              "3 GP     F   15  U       LE3     T       primario primario at_home  other    ⋯\n",
              "4 GP     F   15  U       GT3     T       superior 5a9      health   services ⋯\n",
              "5 GP     F   16  U       GT3     T       medio    medio    other    other    ⋯\n",
              "6 GP     M   16  U       LE3     T       superior medio    services other    ⋯\n",
              "  famrel    freetime goout   dalc        walc        health    absences g1 g2\n",
              "1 boa       regular  muito   muito_baixo muito_baixo regular    6        5  6\n",
              "2 excelente regular  regular muito_baixo muito_baixo regular    4        5  5\n",
              "3 boa       regular  pouco   baixo       moderado    regular   10        7  8\n",
              "4 regular   pouco    pouco   muito_baixo muito_baixo excelente  2       15 14\n",
              "5 boa       regular  pouco   muito_baixo baixo       excelente  4        6 10\n",
              "6 excelente muito    pouco   muito_baixo baixo       excelente 10       15 15\n",
              "  g3\n",
              "1  6\n",
              "2  6\n",
              "3 10\n",
              "4 15\n",
              "5 10\n",
              "6 15"
            ]
          },
          "metadata": {}
        }
      ]
    },
    {
      "cell_type": "code",
      "source": [
        "summary(dados$school)\n",
        "summary(dados$sex)\n",
        "summary(dados$address)\n",
        "summary(dados$famsize)\n",
        "summary(dados$pstatus)\n",
        "summary(dados$mjob)\n",
        "summary(dados$fjob)\n",
        "summary(dados$reason)\n",
        "summary(dados$guardian)\n",
        "summary(dados$schoolsup)\n",
        "summary(dados$famsup)\n",
        "summary(dados$paid)\n",
        "summary(dados$activities)\n",
        "summary(dados$nursery)\n",
        "summary(dados$higher)\n",
        "summary(dados$internet)\n",
        "summary(dados$romantic)"
      ],
      "metadata": {
        "colab": {
          "base_uri": "https://localhost:8080/",
          "height": 312
        },
        "id": "S-8nciMvPOSS",
        "outputId": "c628f8f1-0860-47bd-c35c-b11e8af9f518"
      },
      "execution_count": null,
      "outputs": [
        {
          "output_type": "display_data",
          "data": {
            "text/html": [
              "<style>\n",
              ".dl-inline {width: auto; margin:0; padding: 0}\n",
              ".dl-inline>dt, .dl-inline>dd {float: none; width: auto; display: inline-block}\n",
              ".dl-inline>dt::after {content: \":\\0020\"; padding-right: .5ex}\n",
              ".dl-inline>dt:not(:first-of-type) {padding-left: .5ex}\n",
              "</style><dl class=dl-inline><dt>GP</dt><dd>349</dd><dt>MS</dt><dd>46</dd></dl>\n"
            ],
            "text/markdown": "GP\n:   349MS\n:   46\n\n",
            "text/latex": "\\begin{description*}\n\\item[GP] 349\n\\item[MS] 46\n\\end{description*}\n",
            "text/plain": [
              " GP  MS \n",
              "349  46 "
            ]
          },
          "metadata": {}
        },
        {
          "output_type": "display_data",
          "data": {
            "text/html": [
              "<style>\n",
              ".dl-inline {width: auto; margin:0; padding: 0}\n",
              ".dl-inline>dt, .dl-inline>dd {float: none; width: auto; display: inline-block}\n",
              ".dl-inline>dt::after {content: \":\\0020\"; padding-right: .5ex}\n",
              ".dl-inline>dt:not(:first-of-type) {padding-left: .5ex}\n",
              "</style><dl class=dl-inline><dt>F</dt><dd>208</dd><dt>M</dt><dd>187</dd></dl>\n"
            ],
            "text/markdown": "F\n:   208M\n:   187\n\n",
            "text/latex": "\\begin{description*}\n\\item[F] 208\n\\item[M] 187\n\\end{description*}\n",
            "text/plain": [
              "  F   M \n",
              "208 187 "
            ]
          },
          "metadata": {}
        },
        {
          "output_type": "display_data",
          "data": {
            "text/html": [
              "<style>\n",
              ".dl-inline {width: auto; margin:0; padding: 0}\n",
              ".dl-inline>dt, .dl-inline>dd {float: none; width: auto; display: inline-block}\n",
              ".dl-inline>dt::after {content: \":\\0020\"; padding-right: .5ex}\n",
              ".dl-inline>dt:not(:first-of-type) {padding-left: .5ex}\n",
              "</style><dl class=dl-inline><dt>R</dt><dd>88</dd><dt>U</dt><dd>307</dd></dl>\n"
            ],
            "text/markdown": "R\n:   88U\n:   307\n\n",
            "text/latex": "\\begin{description*}\n\\item[R] 88\n\\item[U] 307\n\\end{description*}\n",
            "text/plain": [
              "  R   U \n",
              " 88 307 "
            ]
          },
          "metadata": {}
        },
        {
          "output_type": "display_data",
          "data": {
            "text/html": [
              "<style>\n",
              ".dl-inline {width: auto; margin:0; padding: 0}\n",
              ".dl-inline>dt, .dl-inline>dd {float: none; width: auto; display: inline-block}\n",
              ".dl-inline>dt::after {content: \":\\0020\"; padding-right: .5ex}\n",
              ".dl-inline>dt:not(:first-of-type) {padding-left: .5ex}\n",
              "</style><dl class=dl-inline><dt>GT3</dt><dd>281</dd><dt>LE3</dt><dd>114</dd></dl>\n"
            ],
            "text/markdown": "GT3\n:   281LE3\n:   114\n\n",
            "text/latex": "\\begin{description*}\n\\item[GT3] 281\n\\item[LE3] 114\n\\end{description*}\n",
            "text/plain": [
              "GT3 LE3 \n",
              "281 114 "
            ]
          },
          "metadata": {}
        },
        {
          "output_type": "display_data",
          "data": {
            "text/html": [
              "<style>\n",
              ".dl-inline {width: auto; margin:0; padding: 0}\n",
              ".dl-inline>dt, .dl-inline>dd {float: none; width: auto; display: inline-block}\n",
              ".dl-inline>dt::after {content: \":\\0020\"; padding-right: .5ex}\n",
              ".dl-inline>dt:not(:first-of-type) {padding-left: .5ex}\n",
              "</style><dl class=dl-inline><dt>A</dt><dd>41</dd><dt>T</dt><dd>354</dd></dl>\n"
            ],
            "text/markdown": "A\n:   41T\n:   354\n\n",
            "text/latex": "\\begin{description*}\n\\item[A] 41\n\\item[T] 354\n\\end{description*}\n",
            "text/plain": [
              "  A   T \n",
              " 41 354 "
            ]
          },
          "metadata": {}
        },
        {
          "output_type": "display_data",
          "data": {
            "text/html": [
              "<style>\n",
              ".dl-inline {width: auto; margin:0; padding: 0}\n",
              ".dl-inline>dt, .dl-inline>dd {float: none; width: auto; display: inline-block}\n",
              ".dl-inline>dt::after {content: \":\\0020\"; padding-right: .5ex}\n",
              ".dl-inline>dt:not(:first-of-type) {padding-left: .5ex}\n",
              "</style><dl class=dl-inline><dt>at_home</dt><dd>59</dd><dt>health</dt><dd>34</dd><dt>other</dt><dd>141</dd><dt>services</dt><dd>103</dd><dt>teacher</dt><dd>58</dd></dl>\n"
            ],
            "text/markdown": "at_home\n:   59health\n:   34other\n:   141services\n:   103teacher\n:   58\n\n",
            "text/latex": "\\begin{description*}\n\\item[at\\textbackslash{}\\_home] 59\n\\item[health] 34\n\\item[other] 141\n\\item[services] 103\n\\item[teacher] 58\n\\end{description*}\n",
            "text/plain": [
              " at_home   health    other services  teacher \n",
              "      59       34      141      103       58 "
            ]
          },
          "metadata": {}
        },
        {
          "output_type": "display_data",
          "data": {
            "text/html": [
              "<style>\n",
              ".dl-inline {width: auto; margin:0; padding: 0}\n",
              ".dl-inline>dt, .dl-inline>dd {float: none; width: auto; display: inline-block}\n",
              ".dl-inline>dt::after {content: \":\\0020\"; padding-right: .5ex}\n",
              ".dl-inline>dt:not(:first-of-type) {padding-left: .5ex}\n",
              "</style><dl class=dl-inline><dt>at_home</dt><dd>20</dd><dt>health</dt><dd>18</dd><dt>other</dt><dd>217</dd><dt>services</dt><dd>111</dd><dt>teacher</dt><dd>29</dd></dl>\n"
            ],
            "text/markdown": "at_home\n:   20health\n:   18other\n:   217services\n:   111teacher\n:   29\n\n",
            "text/latex": "\\begin{description*}\n\\item[at\\textbackslash{}\\_home] 20\n\\item[health] 18\n\\item[other] 217\n\\item[services] 111\n\\item[teacher] 29\n\\end{description*}\n",
            "text/plain": [
              " at_home   health    other services  teacher \n",
              "      20       18      217      111       29 "
            ]
          },
          "metadata": {}
        },
        {
          "output_type": "display_data",
          "data": {
            "text/html": [
              "<style>\n",
              ".dl-inline {width: auto; margin:0; padding: 0}\n",
              ".dl-inline>dt, .dl-inline>dd {float: none; width: auto; display: inline-block}\n",
              ".dl-inline>dt::after {content: \":\\0020\"; padding-right: .5ex}\n",
              ".dl-inline>dt:not(:first-of-type) {padding-left: .5ex}\n",
              "</style><dl class=dl-inline><dt>course</dt><dd>145</dd><dt>home</dt><dd>109</dd><dt>other</dt><dd>36</dd><dt>reputation</dt><dd>105</dd></dl>\n"
            ],
            "text/markdown": "course\n:   145home\n:   109other\n:   36reputation\n:   105\n\n",
            "text/latex": "\\begin{description*}\n\\item[course] 145\n\\item[home] 109\n\\item[other] 36\n\\item[reputation] 105\n\\end{description*}\n",
            "text/plain": [
              "    course       home      other reputation \n",
              "       145        109         36        105 "
            ]
          },
          "metadata": {}
        },
        {
          "output_type": "display_data",
          "data": {
            "text/html": [
              "<style>\n",
              ".dl-inline {width: auto; margin:0; padding: 0}\n",
              ".dl-inline>dt, .dl-inline>dd {float: none; width: auto; display: inline-block}\n",
              ".dl-inline>dt::after {content: \":\\0020\"; padding-right: .5ex}\n",
              ".dl-inline>dt:not(:first-of-type) {padding-left: .5ex}\n",
              "</style><dl class=dl-inline><dt>father</dt><dd>90</dd><dt>mother</dt><dd>273</dd><dt>other</dt><dd>32</dd></dl>\n"
            ],
            "text/markdown": "father\n:   90mother\n:   273other\n:   32\n\n",
            "text/latex": "\\begin{description*}\n\\item[father] 90\n\\item[mother] 273\n\\item[other] 32\n\\end{description*}\n",
            "text/plain": [
              "father mother  other \n",
              "    90    273     32 "
            ]
          },
          "metadata": {}
        },
        {
          "output_type": "display_data",
          "data": {
            "text/html": [
              "<style>\n",
              ".dl-inline {width: auto; margin:0; padding: 0}\n",
              ".dl-inline>dt, .dl-inline>dd {float: none; width: auto; display: inline-block}\n",
              ".dl-inline>dt::after {content: \":\\0020\"; padding-right: .5ex}\n",
              ".dl-inline>dt:not(:first-of-type) {padding-left: .5ex}\n",
              "</style><dl class=dl-inline><dt>no</dt><dd>344</dd><dt>yes</dt><dd>51</dd></dl>\n"
            ],
            "text/markdown": "no\n:   344yes\n:   51\n\n",
            "text/latex": "\\begin{description*}\n\\item[no] 344\n\\item[yes] 51\n\\end{description*}\n",
            "text/plain": [
              " no yes \n",
              "344  51 "
            ]
          },
          "metadata": {}
        },
        {
          "output_type": "display_data",
          "data": {
            "text/html": [
              "<style>\n",
              ".dl-inline {width: auto; margin:0; padding: 0}\n",
              ".dl-inline>dt, .dl-inline>dd {float: none; width: auto; display: inline-block}\n",
              ".dl-inline>dt::after {content: \":\\0020\"; padding-right: .5ex}\n",
              ".dl-inline>dt:not(:first-of-type) {padding-left: .5ex}\n",
              "</style><dl class=dl-inline><dt>no</dt><dd>153</dd><dt>yes</dt><dd>242</dd></dl>\n"
            ],
            "text/markdown": "no\n:   153yes\n:   242\n\n",
            "text/latex": "\\begin{description*}\n\\item[no] 153\n\\item[yes] 242\n\\end{description*}\n",
            "text/plain": [
              " no yes \n",
              "153 242 "
            ]
          },
          "metadata": {}
        },
        {
          "output_type": "display_data",
          "data": {
            "text/html": [
              "<style>\n",
              ".dl-inline {width: auto; margin:0; padding: 0}\n",
              ".dl-inline>dt, .dl-inline>dd {float: none; width: auto; display: inline-block}\n",
              ".dl-inline>dt::after {content: \":\\0020\"; padding-right: .5ex}\n",
              ".dl-inline>dt:not(:first-of-type) {padding-left: .5ex}\n",
              "</style><dl class=dl-inline><dt>no</dt><dd>214</dd><dt>yes</dt><dd>181</dd></dl>\n"
            ],
            "text/markdown": "no\n:   214yes\n:   181\n\n",
            "text/latex": "\\begin{description*}\n\\item[no] 214\n\\item[yes] 181\n\\end{description*}\n",
            "text/plain": [
              " no yes \n",
              "214 181 "
            ]
          },
          "metadata": {}
        },
        {
          "output_type": "display_data",
          "data": {
            "text/html": [
              "<style>\n",
              ".dl-inline {width: auto; margin:0; padding: 0}\n",
              ".dl-inline>dt, .dl-inline>dd {float: none; width: auto; display: inline-block}\n",
              ".dl-inline>dt::after {content: \":\\0020\"; padding-right: .5ex}\n",
              ".dl-inline>dt:not(:first-of-type) {padding-left: .5ex}\n",
              "</style><dl class=dl-inline><dt>no</dt><dd>194</dd><dt>yes</dt><dd>201</dd></dl>\n"
            ],
            "text/markdown": "no\n:   194yes\n:   201\n\n",
            "text/latex": "\\begin{description*}\n\\item[no] 194\n\\item[yes] 201\n\\end{description*}\n",
            "text/plain": [
              " no yes \n",
              "194 201 "
            ]
          },
          "metadata": {}
        },
        {
          "output_type": "display_data",
          "data": {
            "text/html": [
              "<style>\n",
              ".dl-inline {width: auto; margin:0; padding: 0}\n",
              ".dl-inline>dt, .dl-inline>dd {float: none; width: auto; display: inline-block}\n",
              ".dl-inline>dt::after {content: \":\\0020\"; padding-right: .5ex}\n",
              ".dl-inline>dt:not(:first-of-type) {padding-left: .5ex}\n",
              "</style><dl class=dl-inline><dt>no</dt><dd>81</dd><dt>yes</dt><dd>314</dd></dl>\n"
            ],
            "text/markdown": "no\n:   81yes\n:   314\n\n",
            "text/latex": "\\begin{description*}\n\\item[no] 81\n\\item[yes] 314\n\\end{description*}\n",
            "text/plain": [
              " no yes \n",
              " 81 314 "
            ]
          },
          "metadata": {}
        },
        {
          "output_type": "display_data",
          "data": {
            "text/html": [
              "<style>\n",
              ".dl-inline {width: auto; margin:0; padding: 0}\n",
              ".dl-inline>dt, .dl-inline>dd {float: none; width: auto; display: inline-block}\n",
              ".dl-inline>dt::after {content: \":\\0020\"; padding-right: .5ex}\n",
              ".dl-inline>dt:not(:first-of-type) {padding-left: .5ex}\n",
              "</style><dl class=dl-inline><dt>no</dt><dd>20</dd><dt>yes</dt><dd>375</dd></dl>\n"
            ],
            "text/markdown": "no\n:   20yes\n:   375\n\n",
            "text/latex": "\\begin{description*}\n\\item[no] 20\n\\item[yes] 375\n\\end{description*}\n",
            "text/plain": [
              " no yes \n",
              " 20 375 "
            ]
          },
          "metadata": {}
        },
        {
          "output_type": "display_data",
          "data": {
            "text/html": [
              "<style>\n",
              ".dl-inline {width: auto; margin:0; padding: 0}\n",
              ".dl-inline>dt, .dl-inline>dd {float: none; width: auto; display: inline-block}\n",
              ".dl-inline>dt::after {content: \":\\0020\"; padding-right: .5ex}\n",
              ".dl-inline>dt:not(:first-of-type) {padding-left: .5ex}\n",
              "</style><dl class=dl-inline><dt>no</dt><dd>66</dd><dt>yes</dt><dd>329</dd></dl>\n"
            ],
            "text/markdown": "no\n:   66yes\n:   329\n\n",
            "text/latex": "\\begin{description*}\n\\item[no] 66\n\\item[yes] 329\n\\end{description*}\n",
            "text/plain": [
              " no yes \n",
              " 66 329 "
            ]
          },
          "metadata": {}
        },
        {
          "output_type": "display_data",
          "data": {
            "text/html": [
              "<style>\n",
              ".dl-inline {width: auto; margin:0; padding: 0}\n",
              ".dl-inline>dt, .dl-inline>dd {float: none; width: auto; display: inline-block}\n",
              ".dl-inline>dt::after {content: \":\\0020\"; padding-right: .5ex}\n",
              ".dl-inline>dt:not(:first-of-type) {padding-left: .5ex}\n",
              "</style><dl class=dl-inline><dt>no</dt><dd>263</dd><dt>yes</dt><dd>132</dd></dl>\n"
            ],
            "text/markdown": "no\n:   263yes\n:   132\n\n",
            "text/latex": "\\begin{description*}\n\\item[no] 263\n\\item[yes] 132\n\\end{description*}\n",
            "text/plain": [
              " no yes \n",
              "263 132 "
            ]
          },
          "metadata": {}
        }
      ]
    },
    {
      "cell_type": "code",
      "source": [
        "summary(dados$medu)\n",
        "summary(dados$fedu)\n",
        "summary(dados$traveltime)\n",
        "summary(dados$studytime)\n",
        "summary(dados$failures)\n",
        "summary(dados$famrel)\n",
        "summary(dados$freetime)\n",
        "summary(dados$goout)\n",
        "summary(dados$walc)\n",
        "summary(dados$dalc)\n",
        "summary(dados$health)\n"
      ],
      "metadata": {
        "colab": {
          "base_uri": "https://localhost:8080/",
          "height": 208
        },
        "id": "cHvTFJcaROth",
        "outputId": "5c904113-e84d-4301-90c0-a3d0c65e7626"
      },
      "execution_count": null,
      "outputs": [
        {
          "output_type": "display_data",
          "data": {
            "text/html": [
              "<style>\n",
              ".dl-inline {width: auto; margin:0; padding: 0}\n",
              ".dl-inline>dt, .dl-inline>dd {float: none; width: auto; display: inline-block}\n",
              ".dl-inline>dt::after {content: \":\\0020\"; padding-right: .5ex}\n",
              ".dl-inline>dt:not(:first-of-type) {padding-left: .5ex}\n",
              "</style><dl class=dl-inline><dt>nenhuma</dt><dd>3</dd><dt>primario</dt><dd>59</dd><dt>5a9</dt><dd>103</dd><dt>medio</dt><dd>99</dd><dt>superior</dt><dd>131</dd></dl>\n"
            ],
            "text/markdown": "nenhuma\n:   3primario\n:   595a9\n:   103medio\n:   99superior\n:   131\n\n",
            "text/latex": "\\begin{description*}\n\\item[nenhuma] 3\n\\item[primario] 59\n\\item[5a9] 103\n\\item[medio] 99\n\\item[superior] 131\n\\end{description*}\n",
            "text/plain": [
              " nenhuma primario      5a9    medio superior \n",
              "       3       59      103       99      131 "
            ]
          },
          "metadata": {}
        },
        {
          "output_type": "display_data",
          "data": {
            "text/html": [
              "<style>\n",
              ".dl-inline {width: auto; margin:0; padding: 0}\n",
              ".dl-inline>dt, .dl-inline>dd {float: none; width: auto; display: inline-block}\n",
              ".dl-inline>dt::after {content: \":\\0020\"; padding-right: .5ex}\n",
              ".dl-inline>dt:not(:first-of-type) {padding-left: .5ex}\n",
              "</style><dl class=dl-inline><dt>nenhuma</dt><dd>2</dd><dt>primario</dt><dd>82</dd><dt>5a9</dt><dd>115</dd><dt>medio</dt><dd>100</dd><dt>superior</dt><dd>96</dd></dl>\n"
            ],
            "text/markdown": "nenhuma\n:   2primario\n:   825a9\n:   115medio\n:   100superior\n:   96\n\n",
            "text/latex": "\\begin{description*}\n\\item[nenhuma] 2\n\\item[primario] 82\n\\item[5a9] 115\n\\item[medio] 100\n\\item[superior] 96\n\\end{description*}\n",
            "text/plain": [
              " nenhuma primario      5a9    medio superior \n",
              "       2       82      115      100       96 "
            ]
          },
          "metadata": {}
        },
        {
          "output_type": "display_data",
          "data": {
            "text/html": [
              "<style>\n",
              ".dl-inline {width: auto; margin:0; padding: 0}\n",
              ".dl-inline>dt, .dl-inline>dd {float: none; width: auto; display: inline-block}\n",
              ".dl-inline>dt::after {content: \":\\0020\"; padding-right: .5ex}\n",
              ".dl-inline>dt:not(:first-of-type) {padding-left: .5ex}\n",
              "</style><dl class=dl-inline><dt>&lt;15m</dt><dd>257</dd><dt>15-30m</dt><dd>107</dd><dt>30-60m</dt><dd>23</dd><dt>&gt;1h</dt><dd>8</dd></dl>\n"
            ],
            "text/markdown": "&amp;lt;15m\n:   25715-30m\n:   10730-60m\n:   23&amp;gt;1h\n:   8\n\n",
            "text/latex": "\\begin{description*}\n\\item[<15m] 257\n\\item[15-30m] 107\n\\item[30-60m] 23\n\\item[>1h] 8\n\\end{description*}\n",
            "text/plain": [
              "  <15m 15-30m 30-60m    >1h \n",
              "   257    107     23      8 "
            ]
          },
          "metadata": {}
        },
        {
          "output_type": "display_data",
          "data": {
            "text/html": [
              "<style>\n",
              ".dl-inline {width: auto; margin:0; padding: 0}\n",
              ".dl-inline>dt, .dl-inline>dd {float: none; width: auto; display: inline-block}\n",
              ".dl-inline>dt::after {content: \":\\0020\"; padding-right: .5ex}\n",
              ".dl-inline>dt:not(:first-of-type) {padding-left: .5ex}\n",
              "</style><dl class=dl-inline><dt>&lt;2h</dt><dd>105</dd><dt>2-5h</dt><dd>198</dd><dt>5-10h</dt><dd>65</dd><dt>&gt;10h</dt><dd>27</dd></dl>\n"
            ],
            "text/markdown": "&amp;lt;2h\n:   1052-5h\n:   1985-10h\n:   65&amp;gt;10h\n:   27\n\n",
            "text/latex": "\\begin{description*}\n\\item[<2h] 105\n\\item[2-5h] 198\n\\item[5-10h] 65\n\\item[>10h] 27\n\\end{description*}\n",
            "text/plain": [
              "  <2h  2-5h 5-10h  >10h \n",
              "  105   198    65    27 "
            ]
          },
          "metadata": {}
        },
        {
          "output_type": "display_data",
          "data": {
            "text/html": [
              "<style>\n",
              ".dl-inline {width: auto; margin:0; padding: 0}\n",
              ".dl-inline>dt, .dl-inline>dd {float: none; width: auto; display: inline-block}\n",
              ".dl-inline>dt::after {content: \":\\0020\"; padding-right: .5ex}\n",
              ".dl-inline>dt:not(:first-of-type) {padding-left: .5ex}\n",
              "</style><dl class=dl-inline><dt>0</dt><dd>312</dd><dt>1</dt><dd>50</dd><dt>2</dt><dd>17</dd><dt>3+</dt><dd>16</dd></dl>\n"
            ],
            "text/markdown": "0\n:   3121\n:   502\n:   173+\n:   16\n\n",
            "text/latex": "\\begin{description*}\n\\item[0] 312\n\\item[1] 50\n\\item[2] 17\n\\item[3+] 16\n\\end{description*}\n",
            "text/plain": [
              "  0   1   2  3+ \n",
              "312  50  17  16 "
            ]
          },
          "metadata": {}
        },
        {
          "output_type": "display_data",
          "data": {
            "text/html": [
              "<style>\n",
              ".dl-inline {width: auto; margin:0; padding: 0}\n",
              ".dl-inline>dt, .dl-inline>dd {float: none; width: auto; display: inline-block}\n",
              ".dl-inline>dt::after {content: \":\\0020\"; padding-right: .5ex}\n",
              ".dl-inline>dt:not(:first-of-type) {padding-left: .5ex}\n",
              "</style><dl class=dl-inline><dt>muito_ruim</dt><dd>8</dd><dt>ruim</dt><dd>18</dd><dt>regular</dt><dd>68</dd><dt>boa</dt><dd>195</dd><dt>excelente</dt><dd>106</dd></dl>\n"
            ],
            "text/markdown": "muito_ruim\n:   8ruim\n:   18regular\n:   68boa\n:   195excelente\n:   106\n\n",
            "text/latex": "\\begin{description*}\n\\item[muito\\textbackslash{}\\_ruim] 8\n\\item[ruim] 18\n\\item[regular] 68\n\\item[boa] 195\n\\item[excelente] 106\n\\end{description*}\n",
            "text/plain": [
              "muito_ruim       ruim    regular        boa  excelente \n",
              "         8         18         68        195        106 "
            ]
          },
          "metadata": {}
        },
        {
          "output_type": "display_data",
          "data": {
            "text/html": [
              "<style>\n",
              ".dl-inline {width: auto; margin:0; padding: 0}\n",
              ".dl-inline>dt, .dl-inline>dd {float: none; width: auto; display: inline-block}\n",
              ".dl-inline>dt::after {content: \":\\0020\"; padding-right: .5ex}\n",
              ".dl-inline>dt:not(:first-of-type) {padding-left: .5ex}\n",
              "</style><dl class=dl-inline><dt>muito_pouco</dt><dd>19</dd><dt>pouco</dt><dd>64</dd><dt>regular</dt><dd>157</dd><dt>muito</dt><dd>115</dd><dt>excessivo</dt><dd>40</dd></dl>\n"
            ],
            "text/markdown": "muito_pouco\n:   19pouco\n:   64regular\n:   157muito\n:   115excessivo\n:   40\n\n",
            "text/latex": "\\begin{description*}\n\\item[muito\\textbackslash{}\\_pouco] 19\n\\item[pouco] 64\n\\item[regular] 157\n\\item[muito] 115\n\\item[excessivo] 40\n\\end{description*}\n",
            "text/plain": [
              "muito_pouco       pouco     regular       muito   excessivo \n",
              "         19          64         157         115          40 "
            ]
          },
          "metadata": {}
        },
        {
          "output_type": "display_data",
          "data": {
            "text/html": [
              "<style>\n",
              ".dl-inline {width: auto; margin:0; padding: 0}\n",
              ".dl-inline>dt, .dl-inline>dd {float: none; width: auto; display: inline-block}\n",
              ".dl-inline>dt::after {content: \":\\0020\"; padding-right: .5ex}\n",
              ".dl-inline>dt:not(:first-of-type) {padding-left: .5ex}\n",
              "</style><dl class=dl-inline><dt>muito_pouco</dt><dd>23</dd><dt>pouco</dt><dd>103</dd><dt>regular</dt><dd>130</dd><dt>muito</dt><dd>86</dd><dt>excessivo</dt><dd>53</dd></dl>\n"
            ],
            "text/markdown": "muito_pouco\n:   23pouco\n:   103regular\n:   130muito\n:   86excessivo\n:   53\n\n",
            "text/latex": "\\begin{description*}\n\\item[muito\\textbackslash{}\\_pouco] 23\n\\item[pouco] 103\n\\item[regular] 130\n\\item[muito] 86\n\\item[excessivo] 53\n\\end{description*}\n",
            "text/plain": [
              "muito_pouco       pouco     regular       muito   excessivo \n",
              "         23         103         130          86          53 "
            ]
          },
          "metadata": {}
        },
        {
          "output_type": "display_data",
          "data": {
            "text/html": [
              "<style>\n",
              ".dl-inline {width: auto; margin:0; padding: 0}\n",
              ".dl-inline>dt, .dl-inline>dd {float: none; width: auto; display: inline-block}\n",
              ".dl-inline>dt::after {content: \":\\0020\"; padding-right: .5ex}\n",
              ".dl-inline>dt:not(:first-of-type) {padding-left: .5ex}\n",
              "</style><dl class=dl-inline><dt>muito_baixo</dt><dd>151</dd><dt>baixo</dt><dd>85</dd><dt>moderado</dt><dd>80</dd><dt>alto</dt><dd>51</dd><dt>muito_alto</dt><dd>28</dd></dl>\n"
            ],
            "text/markdown": "muito_baixo\n:   151baixo\n:   85moderado\n:   80alto\n:   51muito_alto\n:   28\n\n",
            "text/latex": "\\begin{description*}\n\\item[muito\\textbackslash{}\\_baixo] 151\n\\item[baixo] 85\n\\item[moderado] 80\n\\item[alto] 51\n\\item[muito\\textbackslash{}\\_alto] 28\n\\end{description*}\n",
            "text/plain": [
              "muito_baixo       baixo    moderado        alto  muito_alto \n",
              "        151          85          80          51          28 "
            ]
          },
          "metadata": {}
        },
        {
          "output_type": "display_data",
          "data": {
            "text/html": [
              "<style>\n",
              ".dl-inline {width: auto; margin:0; padding: 0}\n",
              ".dl-inline>dt, .dl-inline>dd {float: none; width: auto; display: inline-block}\n",
              ".dl-inline>dt::after {content: \":\\0020\"; padding-right: .5ex}\n",
              ".dl-inline>dt:not(:first-of-type) {padding-left: .5ex}\n",
              "</style><dl class=dl-inline><dt>muito_baixo</dt><dd>276</dd><dt>baixo</dt><dd>75</dd><dt>moderado</dt><dd>26</dd><dt>alto</dt><dd>9</dd><dt>muito_alto</dt><dd>9</dd></dl>\n"
            ],
            "text/markdown": "muito_baixo\n:   276baixo\n:   75moderado\n:   26alto\n:   9muito_alto\n:   9\n\n",
            "text/latex": "\\begin{description*}\n\\item[muito\\textbackslash{}\\_baixo] 276\n\\item[baixo] 75\n\\item[moderado] 26\n\\item[alto] 9\n\\item[muito\\textbackslash{}\\_alto] 9\n\\end{description*}\n",
            "text/plain": [
              "muito_baixo       baixo    moderado        alto  muito_alto \n",
              "        276          75          26           9           9 "
            ]
          },
          "metadata": {}
        },
        {
          "output_type": "display_data",
          "data": {
            "text/html": [
              "<style>\n",
              ".dl-inline {width: auto; margin:0; padding: 0}\n",
              ".dl-inline>dt, .dl-inline>dd {float: none; width: auto; display: inline-block}\n",
              ".dl-inline>dt::after {content: \":\\0020\"; padding-right: .5ex}\n",
              ".dl-inline>dt:not(:first-of-type) {padding-left: .5ex}\n",
              "</style><dl class=dl-inline><dt>muito_ruim</dt><dd>47</dd><dt>ruim</dt><dd>45</dd><dt>regular</dt><dd>91</dd><dt>boa</dt><dd>66</dd><dt>excelente</dt><dd>146</dd></dl>\n"
            ],
            "text/markdown": "muito_ruim\n:   47ruim\n:   45regular\n:   91boa\n:   66excelente\n:   146\n\n",
            "text/latex": "\\begin{description*}\n\\item[muito\\textbackslash{}\\_ruim] 47\n\\item[ruim] 45\n\\item[regular] 91\n\\item[boa] 66\n\\item[excelente] 146\n\\end{description*}\n",
            "text/plain": [
              "muito_ruim       ruim    regular        boa  excelente \n",
              "        47         45         91         66        146 "
            ]
          },
          "metadata": {}
        }
      ]
    },
    {
      "cell_type": "markdown",
      "source": [
        "##  **Cálculos Estatísticos**"
      ],
      "metadata": {
        "id": "sQzoOJ2zSJst"
      }
    },
    {
      "cell_type": "code",
      "source": [
        "#Calculos estatísticos\n",
        "idade <- c(dados$age)\n",
        "tabela_frequencia <- table(idade)\n",
        "tabela_frequencia\n",
        "# moda\n",
        "moda_valor <- names(sort(-table(idade)))[1]\n",
        "print(moda_valor)\n",
        "#média\n",
        "media_idade <- mean(idade)\n",
        "media_idade\n",
        "#mediana\n",
        "mediana_idade <- median(idade)\n",
        "mediana_idade\n",
        "#variancia\n",
        "variancia_amostral <- var(dados$age)\n",
        "variancia_amostral\n",
        "#desvio padrao\n",
        "desvio_padrao <- sd(dados$age)\n",
        "desvio_padrao"
      ],
      "metadata": {
        "colab": {
          "base_uri": "https://localhost:8080/",
          "height": 156
        },
        "id": "YqPn9jLLO6hT",
        "outputId": "c33d0f17-d601-400b-985e-cc870edc2377"
      },
      "execution_count": null,
      "outputs": [
        {
          "output_type": "display_data",
          "data": {
            "text/plain": [
              "idade\n",
              " 15  16  17  18  19  20  21  22 \n",
              " 82 104  98  82  24   3   1   1 "
            ]
          },
          "metadata": {}
        },
        {
          "output_type": "stream",
          "name": "stdout",
          "text": [
            "[1] \"16\"\n"
          ]
        },
        {
          "output_type": "display_data",
          "data": {
            "text/html": [
              "16.6962025316456"
            ],
            "text/markdown": "16.6962025316456",
            "text/latex": "16.6962025316456",
            "text/plain": [
              "[1] 16.6962"
            ]
          },
          "metadata": {}
        },
        {
          "output_type": "display_data",
          "data": {
            "text/html": [
              "17"
            ],
            "text/markdown": "17",
            "text/latex": "17",
            "text/plain": [
              "[1] 17"
            ]
          },
          "metadata": {}
        },
        {
          "output_type": "display_data",
          "data": {
            "text/html": [
              "1.62828503501896"
            ],
            "text/markdown": "1.62828503501896",
            "text/latex": "1.62828503501896",
            "text/plain": [
              "[1] 1.628285"
            ]
          },
          "metadata": {}
        },
        {
          "output_type": "display_data",
          "data": {
            "text/html": [
              "1.27604272460563"
            ],
            "text/markdown": "1.27604272460563",
            "text/latex": "1.27604272460563",
            "text/plain": [
              "[1] 1.276043"
            ]
          },
          "metadata": {}
        }
      ]
    },
    {
      "cell_type": "code",
      "source": [
        "faltas <- c(dados$absences)\n",
        "tabela_frequencia <- table(faltas)\n",
        "tabela_frequencia\n",
        "# moda\n",
        "moda_valor <- names(sort(-table(faltas)))[1]\n",
        "print(moda_valor)\n",
        "#média\n",
        "media_faltas <- mean(faltas)\n",
        "media_faltas\n",
        "#mediana\n",
        "mediana_faltas <- median(faltas)\n",
        "mediana_faltas\n",
        "#variancia\n",
        "variancia_amostral <- var(dados$absences)\n",
        "variancia_amostral\n",
        "#desvio padrao\n",
        "desvio_padrao <- sd(dados$absences)\n",
        "desvio_padrao"
      ],
      "metadata": {
        "colab": {
          "base_uri": "https://localhost:8080/",
          "height": 191
        },
        "id": "6pQX3aZYO7X7",
        "outputId": "3965799a-35b0-4b2f-e4f3-5e99a2f85bf0"
      },
      "execution_count": null,
      "outputs": [
        {
          "output_type": "display_data",
          "data": {
            "text/plain": [
              "faltas\n",
              "  0   1   2   3   4   5   6   7   8   9  10  11  12  13  14  15  16  17  18  19 \n",
              "115   3  65   8  53   5  31   7  22   3  17   3  12   3  12   3   7   1   5   1 \n",
              " 20  21  22  23  24  25  26  28  30  38  40  54  56  75 \n",
              "  4   1   3   1   1   1   1   1   1   1   1   1   1   1 "
            ]
          },
          "metadata": {}
        },
        {
          "output_type": "stream",
          "name": "stdout",
          "text": [
            "[1] \"0\"\n"
          ]
        },
        {
          "output_type": "display_data",
          "data": {
            "text/html": [
              "5.70886075949367"
            ],
            "text/markdown": "5.70886075949367",
            "text/latex": "5.70886075949367",
            "text/plain": [
              "[1] 5.708861"
            ]
          },
          "metadata": {}
        },
        {
          "output_type": "display_data",
          "data": {
            "text/html": [
              "4"
            ],
            "text/markdown": "4",
            "text/latex": "4",
            "text/plain": [
              "[1] 4"
            ]
          },
          "metadata": {}
        },
        {
          "output_type": "display_data",
          "data": {
            "text/html": [
              "64.0495405770096"
            ],
            "text/markdown": "64.0495405770096",
            "text/latex": "64.0495405770096",
            "text/plain": [
              "[1] 64.04954"
            ]
          },
          "metadata": {}
        },
        {
          "output_type": "display_data",
          "data": {
            "text/html": [
              "8.00309568710818"
            ],
            "text/markdown": "8.00309568710818",
            "text/latex": "8.00309568710818",
            "text/plain": [
              "[1] 8.003096"
            ]
          },
          "metadata": {}
        }
      ]
    },
    {
      "cell_type": "code",
      "source": [
        "nota_primeiro <- c(dados$g1)\n",
        "tabela_frequencia <- table(nota_primeiro)\n",
        "tabela_frequencia\n",
        "#moda\n",
        "moda_valor <- names(sort(-table(nota_primeiro)))[1]\n",
        "print(moda_valor)\n",
        "#média\n",
        "media_nota_primeiro <- mean(nota_primeiro)\n",
        "media_nota_primeiro\n",
        "#mediana\n",
        "mediana_nota_primeiro <- median(nota_primeiro)\n",
        "mediana_nota_primeiro\n",
        "#variancia\n",
        "variancia_amostral <- var(dados$g1)\n",
        "variancia_amostral\n",
        "#desvio padrao\n",
        "desvio_padrao <- sd(dados$g1)\n",
        "desvio_padrao"
      ],
      "metadata": {
        "colab": {
          "base_uri": "https://localhost:8080/",
          "height": 156
        },
        "id": "RqUy-QkJO96M",
        "outputId": "f3f39d9f-a9d1-4b0b-e869-d3de8feba96c"
      },
      "execution_count": null,
      "outputs": [
        {
          "output_type": "display_data",
          "data": {
            "text/plain": [
              "nota_primeiro\n",
              " 3  4  5  6  7  8  9 10 11 12 13 14 15 16 17 18 19 \n",
              " 1  1  7 24 37 41 31 51 39 35 33 30 24 22  8  8  3 "
            ]
          },
          "metadata": {}
        },
        {
          "output_type": "stream",
          "name": "stdout",
          "text": [
            "[1] \"10\"\n"
          ]
        },
        {
          "output_type": "display_data",
          "data": {
            "text/html": [
              "10.9088607594937"
            ],
            "text/markdown": "10.9088607594937",
            "text/latex": "10.9088607594937",
            "text/plain": [
              "[1] 10.90886"
            ]
          },
          "metadata": {}
        },
        {
          "output_type": "display_data",
          "data": {
            "text/html": [
              "11"
            ],
            "text/markdown": "11",
            "text/latex": "11",
            "text/plain": [
              "[1] 11"
            ]
          },
          "metadata": {}
        },
        {
          "output_type": "display_data",
          "data": {
            "text/html": [
              "11.0170532673649"
            ],
            "text/markdown": "11.0170532673649",
            "text/latex": "11.0170532673649",
            "text/plain": [
              "[1] 11.01705"
            ]
          },
          "metadata": {}
        },
        {
          "output_type": "display_data",
          "data": {
            "text/html": [
              "3.31919467150767"
            ],
            "text/markdown": "3.31919467150767",
            "text/latex": "3.31919467150767",
            "text/plain": [
              "[1] 3.319195"
            ]
          },
          "metadata": {}
        }
      ]
    },
    {
      "cell_type": "code",
      "source": [
        "nota_segundo <- c(dados$g2)\n",
        "tabela_frequencia <- table(nota_segundo)\n",
        "tabela_frequencia\n",
        "#moda\n",
        "moda_valor <- names(sort(-table(nota_segundo)))[1]\n",
        "moda_valor\n",
        "#média\n",
        "media_nota_segundo <- mean(nota_segundo)\n",
        "media_nota_segundo\n",
        "#mediana\n",
        "mediana_nota_segundo <- median(nota_segundo)\n",
        "mediana_nota_segundo\n",
        "#variancia\n",
        "variancia_amostral <- var(dados$g2)\n",
        "variancia_amostral\n",
        "#desvio padrao\n",
        "desvio_padrao <- sd(dados$g2)\n",
        "desvio_padrao"
      ],
      "metadata": {
        "colab": {
          "base_uri": "https://localhost:8080/",
          "height": 156
        },
        "id": "YRXkVMbDPBDU",
        "outputId": "e2ef7877-83b4-49f2-de85-a07cb81bb38b"
      },
      "execution_count": null,
      "outputs": [
        {
          "output_type": "display_data",
          "data": {
            "text/plain": [
              "nota_segundo\n",
              " 0  4  5  6  7  8  9 10 11 12 13 14 15 16 17 18 19 \n",
              "13  1 15 14 21 32 50 46 35 41 37 23 34 13  5 12  3 "
            ]
          },
          "metadata": {}
        },
        {
          "output_type": "display_data",
          "data": {
            "text/html": [
              "'9'"
            ],
            "text/markdown": "'9'",
            "text/latex": "'9'",
            "text/plain": [
              "[1] \"9\""
            ]
          },
          "metadata": {}
        },
        {
          "output_type": "display_data",
          "data": {
            "text/html": [
              "10.7139240506329"
            ],
            "text/markdown": "10.7139240506329",
            "text/latex": "10.7139240506329",
            "text/plain": [
              "[1] 10.71392"
            ]
          },
          "metadata": {}
        },
        {
          "output_type": "display_data",
          "data": {
            "text/html": [
              "11"
            ],
            "text/markdown": "11",
            "text/latex": "11",
            "text/plain": [
              "[1] 11"
            ]
          },
          "metadata": {}
        },
        {
          "output_type": "display_data",
          "data": {
            "text/html": [
              "14.1489173038617"
            ],
            "text/markdown": "14.1489173038617",
            "text/latex": "14.1489173038617",
            "text/plain": [
              "[1] 14.14892"
            ]
          },
          "metadata": {}
        },
        {
          "output_type": "display_data",
          "data": {
            "text/html": [
              "3.76150465955603"
            ],
            "text/markdown": "3.76150465955603",
            "text/latex": "3.76150465955603",
            "text/plain": [
              "[1] 3.761505"
            ]
          },
          "metadata": {}
        }
      ]
    },
    {
      "cell_type": "code",
      "source": [
        "nota_final <- c(dados$g3)\n",
        "tabela_frequencia <- table(nota_final)\n",
        "tabela_frequencia\n",
        "#moda\n",
        "moda_valor <- names(sort(-table(nota_final)))[1]\n",
        "moda_valor\n",
        "#média\n",
        "media_nota_final <- mean(nota_final)\n",
        "media_nota_final\n",
        "#mediana\n",
        "mediana_nota_final <- median(nota_final)\n",
        "mediana_nota_final\n",
        "#variancia\n",
        "variancia_amostral <- var(dados$g3)\n",
        "variancia_amostral\n",
        "#desvio padrao\n",
        "desvio_padrao <- sd(dados$g3)\n",
        "desvio_padrao"
      ],
      "metadata": {
        "colab": {
          "base_uri": "https://localhost:8080/",
          "height": 156
        },
        "id": "AlOmW0-pPIdS",
        "outputId": "3550fff6-85a6-4d2d-e865-0b103e8369c0"
      },
      "execution_count": null,
      "outputs": [
        {
          "output_type": "display_data",
          "data": {
            "text/plain": [
              "nota_final\n",
              " 0  4  5  6  7  8  9 10 11 12 13 14 15 16 17 18 19 20 \n",
              "38  1  7 15  9 32 28 56 47 31 31 27 33 16  6 12  5  1 "
            ]
          },
          "metadata": {}
        },
        {
          "output_type": "display_data",
          "data": {
            "text/html": [
              "'10'"
            ],
            "text/markdown": "'10'",
            "text/latex": "'10'",
            "text/plain": [
              "[1] \"10\""
            ]
          },
          "metadata": {}
        },
        {
          "output_type": "display_data",
          "data": {
            "text/html": [
              "10.4151898734177"
            ],
            "text/markdown": "10.4151898734177",
            "text/latex": "10.4151898734177",
            "text/plain": [
              "[1] 10.41519"
            ]
          },
          "metadata": {}
        },
        {
          "output_type": "display_data",
          "data": {
            "text/html": [
              "11"
            ],
            "text/markdown": "11",
            "text/latex": "11",
            "text/plain": [
              "[1] 11"
            ]
          },
          "metadata": {}
        },
        {
          "output_type": "display_data",
          "data": {
            "text/html": [
              "20.9896163978667"
            ],
            "text/markdown": "20.9896163978667",
            "text/latex": "20.9896163978667",
            "text/plain": [
              "[1] 20.98962"
            ]
          },
          "metadata": {}
        },
        {
          "output_type": "display_data",
          "data": {
            "text/html": [
              "4.58144261099784"
            ],
            "text/markdown": "4.58144261099784",
            "text/latex": "4.58144261099784",
            "text/plain": [
              "[1] 4.581443"
            ]
          },
          "metadata": {}
        }
      ]
    },
    {
      "cell_type": "markdown",
      "source": [
        "##**Tabelas de Frequência**"
      ],
      "metadata": {
        "id": "yzMXIO3NSRl-"
      }
    },
    {
      "cell_type": "code",
      "source": [
        "#Tabela de frequência absoluta\n",
        "freq_absoluta <- table(dados$sex )\n",
        "freq_absoluta\n",
        "\n",
        "#relativa\n",
        "freq_relativa <- prop.table(freq_absoluta)\n",
        "freq_relativa\n",
        "\n",
        "#em %\n",
        "p_freq_rel <- 100 * prop.table(freq_relativa)\n",
        "p_freq_rel\n",
        "\n",
        "#total\n",
        "total <- c(freq_absoluta, sum(freq_absoluta))\n",
        "names(total) [3] <- \"Total\"\n",
        "total\n",
        "\n",
        "tabela_final <- cbind(\n",
        "  freq_absoluta,\n",
        "  freq_relativa = round(prop.table(freq_relativa), 2),\n",
        "  p_freq_rel    = round(100 * prop.table(p_freq_rel), 2)\n",
        ")\n",
        "\n",
        "# adiciona o total como nova linha\n",
        "tabela_final <- rbind(\n",
        "  tabela_final,\n",
        "  Total = c(sum(freq_absoluta), 1, 100)\n",
        ")\n",
        "\n",
        "tabela_final"
      ],
      "metadata": {
        "colab": {
          "base_uri": "https://localhost:8080/",
          "height": 334
        },
        "id": "ixr9LhJjwxwq",
        "outputId": "8e1d133a-8fd8-434f-99fd-800ed96bab34"
      },
      "execution_count": null,
      "outputs": [
        {
          "output_type": "display_data",
          "data": {
            "text/plain": [
              "\n",
              "  F   M \n",
              "208 187 "
            ]
          },
          "metadata": {}
        },
        {
          "output_type": "display_data",
          "data": {
            "text/plain": [
              "\n",
              "        F         M \n",
              "0.5265823 0.4734177 "
            ]
          },
          "metadata": {}
        },
        {
          "output_type": "display_data",
          "data": {
            "text/plain": [
              "\n",
              "       F        M \n",
              "52.65823 47.34177 "
            ]
          },
          "metadata": {}
        },
        {
          "output_type": "display_data",
          "data": {
            "text/html": [
              "<style>\n",
              ".dl-inline {width: auto; margin:0; padding: 0}\n",
              ".dl-inline>dt, .dl-inline>dd {float: none; width: auto; display: inline-block}\n",
              ".dl-inline>dt::after {content: \":\\0020\"; padding-right: .5ex}\n",
              ".dl-inline>dt:not(:first-of-type) {padding-left: .5ex}\n",
              "</style><dl class=dl-inline><dt>F</dt><dd>208</dd><dt>M</dt><dd>187</dd><dt>Total</dt><dd>395</dd></dl>\n"
            ],
            "text/markdown": "F\n:   208M\n:   187Total\n:   395\n\n",
            "text/latex": "\\begin{description*}\n\\item[F] 208\n\\item[M] 187\n\\item[Total] 395\n\\end{description*}\n",
            "text/plain": [
              "    F     M Total \n",
              "  208   187   395 "
            ]
          },
          "metadata": {}
        },
        {
          "output_type": "display_data",
          "data": {
            "text/html": [
              "<table class=\"dataframe\">\n",
              "<caption>A matrix: 3 × 3 of type dbl</caption>\n",
              "<thead>\n",
              "\t<tr><th></th><th scope=col>freq_absoluta</th><th scope=col>freq_relativa</th><th scope=col>p_freq_rel</th></tr>\n",
              "</thead>\n",
              "<tbody>\n",
              "\t<tr><th scope=row>F</th><td>208</td><td>0.53</td><td> 52.66</td></tr>\n",
              "\t<tr><th scope=row>M</th><td>187</td><td>0.47</td><td> 47.34</td></tr>\n",
              "\t<tr><th scope=row>Total</th><td>395</td><td>1.00</td><td>100.00</td></tr>\n",
              "</tbody>\n",
              "</table>\n"
            ],
            "text/markdown": "\nA matrix: 3 × 3 of type dbl\n\n| <!--/--> | freq_absoluta | freq_relativa | p_freq_rel |\n|---|---|---|---|\n| F | 208 | 0.53 |  52.66 |\n| M | 187 | 0.47 |  47.34 |\n| Total | 395 | 1.00 | 100.00 |\n\n",
            "text/latex": "A matrix: 3 × 3 of type dbl\n\\begin{tabular}{r|lll}\n  & freq\\_absoluta & freq\\_relativa & p\\_freq\\_rel\\\\\n\\hline\n\tF & 208 & 0.53 &  52.66\\\\\n\tM & 187 & 0.47 &  47.34\\\\\n\tTotal & 395 & 1.00 & 100.00\\\\\n\\end{tabular}\n",
            "text/plain": [
              "      freq_absoluta freq_relativa p_freq_rel\n",
              "F     208           0.53           52.66    \n",
              "M     187           0.47           47.34    \n",
              "Total 395           1.00          100.00    "
            ]
          },
          "metadata": {}
        }
      ]
    },
    {
      "cell_type": "code",
      "source": [
        "freq_absoluta <- table(dados$age)\n",
        "freq_absoluta\n",
        "\n",
        "#relativa\n",
        "freq_relativa <- prop.table(freq_absoluta)\n",
        "freq_relativa\n",
        "\n",
        "#em %\n",
        "p_freq_rel <- 100 * prop.table(freq_relativa)\n",
        "p_freq_rel\n",
        "\n",
        "#total\n",
        "total <- c(freq_absoluta, sum(freq_absoluta))\n",
        "names(total) [3] <- \"Total\"\n",
        "total\n",
        "\n",
        "tabela_final <- cbind(\n",
        "  freq_absoluta,\n",
        "  freq_relativa = round(prop.table(freq_relativa), 2),\n",
        "  p_freq_rel    = round(100 * prop.table(p_freq_rel), 2)\n",
        ")\n",
        "\n",
        "# adiciona o total como nova linha\n",
        "tabela_final <- rbind(\n",
        "  tabela_final,\n",
        "  Total = c(sum(freq_absoluta), 1, 100)\n",
        ")\n",
        "\n",
        "tabela_final"
      ],
      "metadata": {
        "colab": {
          "base_uri": "https://localhost:8080/",
          "height": 592
        },
        "id": "QPY1tre7B7MD",
        "outputId": "85da3793-a453-48b2-ba02-1cd5fc5ab6be"
      },
      "execution_count": null,
      "outputs": [
        {
          "output_type": "display_data",
          "data": {
            "text/plain": [
              "\n",
              " 15  16  17  18  19  20  21  22 \n",
              " 82 104  98  82  24   3   1   1 "
            ]
          },
          "metadata": {}
        },
        {
          "output_type": "display_data",
          "data": {
            "text/plain": [
              "\n",
              "         15          16          17          18          19          20 \n",
              "0.207594937 0.263291139 0.248101266 0.207594937 0.060759494 0.007594937 \n",
              "         21          22 \n",
              "0.002531646 0.002531646 "
            ]
          },
          "metadata": {}
        },
        {
          "output_type": "display_data",
          "data": {
            "text/plain": [
              "\n",
              "        15         16         17         18         19         20         21 \n",
              "20.7594937 26.3291139 24.8101266 20.7594937  6.0759494  0.7594937  0.2531646 \n",
              "        22 \n",
              " 0.2531646 "
            ]
          },
          "metadata": {}
        },
        {
          "output_type": "display_data",
          "data": {
            "text/html": [
              "<style>\n",
              ".dl-inline {width: auto; margin:0; padding: 0}\n",
              ".dl-inline>dt, .dl-inline>dd {float: none; width: auto; display: inline-block}\n",
              ".dl-inline>dt::after {content: \":\\0020\"; padding-right: .5ex}\n",
              ".dl-inline>dt:not(:first-of-type) {padding-left: .5ex}\n",
              "</style><dl class=dl-inline><dt>15</dt><dd>82</dd><dt>16</dt><dd>104</dd><dt>Total</dt><dd>98</dd><dt>18</dt><dd>82</dd><dt>19</dt><dd>24</dd><dt>20</dt><dd>3</dd><dt>21</dt><dd>1</dd><dt>22</dt><dd>1</dd><dt>9</dt><dd>395</dd></dl>\n"
            ],
            "text/markdown": "15\n:   8216\n:   104Total\n:   9818\n:   8219\n:   2420\n:   321\n:   122\n:   19\n:   395\n\n",
            "text/latex": "\\begin{description*}\n\\item[15] 82\n\\item[16] 104\n\\item[Total] 98\n\\item[18] 82\n\\item[19] 24\n\\item[20] 3\n\\item[21] 1\n\\item[22] 1\n\\item[9] 395\n\\end{description*}\n",
            "text/plain": [
              "   15    16 Total    18    19    20    21    22       \n",
              "   82   104    98    82    24     3     1     1   395 "
            ]
          },
          "metadata": {}
        },
        {
          "output_type": "display_data",
          "data": {
            "text/html": [
              "<table class=\"dataframe\">\n",
              "<caption>A matrix: 9 × 3 of type dbl</caption>\n",
              "<thead>\n",
              "\t<tr><th></th><th scope=col>freq_absoluta</th><th scope=col>freq_relativa</th><th scope=col>p_freq_rel</th></tr>\n",
              "</thead>\n",
              "<tbody>\n",
              "\t<tr><th scope=row>15</th><td> 82</td><td>0.21</td><td> 20.76</td></tr>\n",
              "\t<tr><th scope=row>16</th><td>104</td><td>0.26</td><td> 26.33</td></tr>\n",
              "\t<tr><th scope=row>17</th><td> 98</td><td>0.25</td><td> 24.81</td></tr>\n",
              "\t<tr><th scope=row>18</th><td> 82</td><td>0.21</td><td> 20.76</td></tr>\n",
              "\t<tr><th scope=row>19</th><td> 24</td><td>0.06</td><td>  6.08</td></tr>\n",
              "\t<tr><th scope=row>20</th><td>  3</td><td>0.01</td><td>  0.76</td></tr>\n",
              "\t<tr><th scope=row>21</th><td>  1</td><td>0.00</td><td>  0.25</td></tr>\n",
              "\t<tr><th scope=row>22</th><td>  1</td><td>0.00</td><td>  0.25</td></tr>\n",
              "\t<tr><th scope=row>Total</th><td>395</td><td>1.00</td><td>100.00</td></tr>\n",
              "</tbody>\n",
              "</table>\n"
            ],
            "text/markdown": "\nA matrix: 9 × 3 of type dbl\n\n| <!--/--> | freq_absoluta | freq_relativa | p_freq_rel |\n|---|---|---|---|\n| 15 |  82 | 0.21 |  20.76 |\n| 16 | 104 | 0.26 |  26.33 |\n| 17 |  98 | 0.25 |  24.81 |\n| 18 |  82 | 0.21 |  20.76 |\n| 19 |  24 | 0.06 |   6.08 |\n| 20 |   3 | 0.01 |   0.76 |\n| 21 |   1 | 0.00 |   0.25 |\n| 22 |   1 | 0.00 |   0.25 |\n| Total | 395 | 1.00 | 100.00 |\n\n",
            "text/latex": "A matrix: 9 × 3 of type dbl\n\\begin{tabular}{r|lll}\n  & freq\\_absoluta & freq\\_relativa & p\\_freq\\_rel\\\\\n\\hline\n\t15 &  82 & 0.21 &  20.76\\\\\n\t16 & 104 & 0.26 &  26.33\\\\\n\t17 &  98 & 0.25 &  24.81\\\\\n\t18 &  82 & 0.21 &  20.76\\\\\n\t19 &  24 & 0.06 &   6.08\\\\\n\t20 &   3 & 0.01 &   0.76\\\\\n\t21 &   1 & 0.00 &   0.25\\\\\n\t22 &   1 & 0.00 &   0.25\\\\\n\tTotal & 395 & 1.00 & 100.00\\\\\n\\end{tabular}\n",
            "text/plain": [
              "      freq_absoluta freq_relativa p_freq_rel\n",
              "15     82           0.21           20.76    \n",
              "16    104           0.26           26.33    \n",
              "17     98           0.25           24.81    \n",
              "18     82           0.21           20.76    \n",
              "19     24           0.06            6.08    \n",
              "20      3           0.01            0.76    \n",
              "21      1           0.00            0.25    \n",
              "22      1           0.00            0.25    \n",
              "Total 395           1.00          100.00    "
            ]
          },
          "metadata": {}
        }
      ]
    },
    {
      "cell_type": "code",
      "source": [
        "freq_absoluta <- table(dados$studytime)\n",
        "freq_absoluta\n",
        "\n",
        "#relativa\n",
        "freq_relativa <- prop.table(freq_absoluta)\n",
        "freq_relativa\n",
        "\n",
        "#em %\n",
        "p_freq_rel <- 100 * prop.table(freq_relativa)\n",
        "p_freq_rel\n",
        "\n",
        "#total\n",
        "total <- c(freq_absoluta, sum(freq_absoluta))\n",
        "names(total) [3] <- \"Total\"\n",
        "total\n",
        "\n",
        "tabela_final <- cbind(\n",
        "  freq_absoluta,\n",
        "  freq_relativa = round(prop.table(freq_relativa), 2),\n",
        "  p_freq_rel    = round(100 * prop.table(p_freq_rel), 2)\n",
        ")\n",
        "\n",
        "# adiciona o total como nova linha\n",
        "tabela_final <- rbind(\n",
        "  tabela_final,\n",
        "  Total = c(sum(freq_absoluta), 1, 100)\n",
        ")\n",
        "\n",
        "tabela_final"
      ],
      "metadata": {
        "colab": {
          "base_uri": "https://localhost:8080/",
          "height": 397
        },
        "id": "V7fhqfHQCd2p",
        "outputId": "e41dd833-2131-49af-e4a7-0fbab75d84c8"
      },
      "execution_count": null,
      "outputs": [
        {
          "output_type": "display_data",
          "data": {
            "text/plain": [
              "\n",
              "  <2h  2-5h 5-10h  >10h \n",
              "  105   198    65    27 "
            ]
          },
          "metadata": {}
        },
        {
          "output_type": "display_data",
          "data": {
            "text/plain": [
              "\n",
              "       <2h       2-5h      5-10h       >10h \n",
              "0.26582278 0.50126582 0.16455696 0.06835443 "
            ]
          },
          "metadata": {}
        },
        {
          "output_type": "display_data",
          "data": {
            "text/plain": [
              "\n",
              "      <2h      2-5h     5-10h      >10h \n",
              "26.582278 50.126582 16.455696  6.835443 "
            ]
          },
          "metadata": {}
        },
        {
          "output_type": "display_data",
          "data": {
            "text/html": [
              "<style>\n",
              ".dl-inline {width: auto; margin:0; padding: 0}\n",
              ".dl-inline>dt, .dl-inline>dd {float: none; width: auto; display: inline-block}\n",
              ".dl-inline>dt::after {content: \":\\0020\"; padding-right: .5ex}\n",
              ".dl-inline>dt:not(:first-of-type) {padding-left: .5ex}\n",
              "</style><dl class=dl-inline><dt>&lt;2h</dt><dd>105</dd><dt>2-5h</dt><dd>198</dd><dt>Total</dt><dd>65</dd><dt>&gt;10h</dt><dd>27</dd><dt>5</dt><dd>395</dd></dl>\n"
            ],
            "text/markdown": "&amp;lt;2h\n:   1052-5h\n:   198Total\n:   65&amp;gt;10h\n:   275\n:   395\n\n",
            "text/latex": "\\begin{description*}\n\\item[<2h] 105\n\\item[2-5h] 198\n\\item[Total] 65\n\\item[>10h] 27\n\\item[5] 395\n\\end{description*}\n",
            "text/plain": [
              "  <2h  2-5h Total  >10h       \n",
              "  105   198    65    27   395 "
            ]
          },
          "metadata": {}
        },
        {
          "output_type": "display_data",
          "data": {
            "text/html": [
              "<table class=\"dataframe\">\n",
              "<caption>A matrix: 5 × 3 of type dbl</caption>\n",
              "<thead>\n",
              "\t<tr><th></th><th scope=col>freq_absoluta</th><th scope=col>freq_relativa</th><th scope=col>p_freq_rel</th></tr>\n",
              "</thead>\n",
              "<tbody>\n",
              "\t<tr><th scope=row>&lt;2h</th><td>105</td><td>0.27</td><td> 26.58</td></tr>\n",
              "\t<tr><th scope=row>2-5h</th><td>198</td><td>0.50</td><td> 50.13</td></tr>\n",
              "\t<tr><th scope=row>5-10h</th><td> 65</td><td>0.16</td><td> 16.46</td></tr>\n",
              "\t<tr><th scope=row>&gt;10h</th><td> 27</td><td>0.07</td><td>  6.84</td></tr>\n",
              "\t<tr><th scope=row>Total</th><td>395</td><td>1.00</td><td>100.00</td></tr>\n",
              "</tbody>\n",
              "</table>\n"
            ],
            "text/markdown": "\nA matrix: 5 × 3 of type dbl\n\n| <!--/--> | freq_absoluta | freq_relativa | p_freq_rel |\n|---|---|---|---|\n| &lt;2h | 105 | 0.27 |  26.58 |\n| 2-5h | 198 | 0.50 |  50.13 |\n| 5-10h |  65 | 0.16 |  16.46 |\n| &gt;10h |  27 | 0.07 |   6.84 |\n| Total | 395 | 1.00 | 100.00 |\n\n",
            "text/latex": "A matrix: 5 × 3 of type dbl\n\\begin{tabular}{r|lll}\n  & freq\\_absoluta & freq\\_relativa & p\\_freq\\_rel\\\\\n\\hline\n\t<2h & 105 & 0.27 &  26.58\\\\\n\t2-5h & 198 & 0.50 &  50.13\\\\\n\t5-10h &  65 & 0.16 &  16.46\\\\\n\t>10h &  27 & 0.07 &   6.84\\\\\n\tTotal & 395 & 1.00 & 100.00\\\\\n\\end{tabular}\n",
            "text/plain": [
              "      freq_absoluta freq_relativa p_freq_rel\n",
              "<2h   105           0.27           26.58    \n",
              "2-5h  198           0.50           50.13    \n",
              "5-10h  65           0.16           16.46    \n",
              ">10h   27           0.07            6.84    \n",
              "Total 395           1.00          100.00    "
            ]
          },
          "metadata": {}
        }
      ]
    },
    {
      "cell_type": "markdown",
      "source": [
        "##**Histograma**\n",
        "\n"
      ],
      "metadata": {
        "id": "fKoYycQqSae4"
      }
    },
    {
      "cell_type": "code",
      "source": [
        "install.packages(\"fitdistrplus\")\n",
        "library(fitdistrplus)\n"
      ],
      "metadata": {
        "colab": {
          "base_uri": "https://localhost:8080/"
        },
        "id": "wkGOTLL4dJM5",
        "outputId": "03fb052a-ba45-428f-e790-7becd1227d34"
      },
      "execution_count": null,
      "outputs": [
        {
          "output_type": "stream",
          "name": "stderr",
          "text": [
            "Installing package into ‘/usr/local/lib/R/site-library’\n",
            "(as ‘lib’ is unspecified)\n",
            "\n",
            "Loading required package: MASS\n",
            "\n",
            "Loading required package: survival\n",
            "\n"
          ]
        }
      ]
    },
    {
      "cell_type": "code",
      "source": [
        "age <- dados$age\n",
        "hist(age,\n",
        "     probability = TRUE,\n",
        "     main = \"Histograma da Idade dos Estudantes\",\n",
        "     xlab = \"Idade\",\n",
        "     ylab = \"Frequência\",\n",
        "     col = \"lightblue\",\n",
        "     border = \"black\")\n",
        "\n",
        "\n",
        "\n"
      ],
      "metadata": {
        "colab": {
          "base_uri": "https://localhost:8080/",
          "height": 437
        },
        "id": "dC9si4Aj_ccR",
        "outputId": "d25ed22c-d0ef-4d19-9f49-008bdb200939"
      },
      "execution_count": null,
      "outputs": [
        {
          "output_type": "display_data",
          "data": {
            "text/plain": [
              "Plot with title “Histograma da Idade dos Estudantes”"
            ],
            "image/png": "[encoded data removed]"
          },
          "metadata": {
            "image/png": {
              "width": 420,
              "height": 420
            }
          }
        }
      ]
    },
    {
      "cell_type": "markdown",
      "source": [
        "##**BOX-PLOT** - variáveis numéricas\n",
        "\n",
        "-Quanto dos dados estão representados entre o limite inferior e superior? (em %)\n",
        "\n",
        "No 1º período e na nota final, cerca de 100% dos dados estão representados entre os limites.\n",
        "O 2º período, por haver um outlier, é necessário fazer o cálculo: (n-1)/n = 394/395 ≈ 0,997, ou seja, 99,7% dos dados estão representados entre os limites."
      ],
      "metadata": {
        "id": "9xdCiaBm-lnS"
      }
    },
    {
      "cell_type": "code",
      "source": [
        "set.seed(123)\n",
        "#age <- c(rnorm(150, mean = 10, sd =2) 25,30)\n",
        "g1 <- c(rnorm(150, mean = 10, sd =2))\n",
        "g2 <- c(rnorm(150, mean = 10, sd =2))\n",
        "g3 <- c(rnorm(150, mean = 10, sd=2))\n",
        "\n",
        "#boxplot\n",
        "boxplot (g1, g2, g3,\n",
        "        main= \"Comparação entre as Notas do 1º, 2 º período e a Nota final\",\n",
        "        names= c(\"Primeiro Período\", \"Segundo Período\", \"Nota Final\"),\n",
        "        ylab= \"Valores\",\n",
        "        col= c(\"lightblue\", \"darkblue\", \"green\"),\n",
        "        border= c(\"black\", \"black\", \"black\"),\n",
        "        notch= F)\n"
      ],
      "metadata": {
        "colab": {
          "base_uri": "https://localhost:8080/",
          "height": 437
        },
        "id": "dXrD-Z-aAaep",
        "outputId": "b936c7c2-5a4e-4789-9e52-01ff83f690c1"
      },
      "execution_count": null,
      "outputs": [
        {
          "output_type": "display_data",
          "data": {
            "text/plain": [
              "Plot with title “Comparação entre as Notas do 1º, 2 º período e a Nota final”"
            ],
            "image/png": "[encoded data removed]"
          },
          "metadata": {
            "image/png": {
              "width": 420,
              "height": 420
            }
          }
        }
      ]
    },
    {
      "cell_type": "markdown",
      "source": [
        "##**Tabela Cruzada** (02 variável qualitativa)"
      ],
      "metadata": {
        "id": "Hc8rZuF0Dqr_"
      }
    },
    {
      "cell_type": "code",
      "source": [
        "install.packages(\"knitr\")\n",
        "\n",
        "library(knitr)"
      ],
      "metadata": {
        "colab": {
          "base_uri": "https://localhost:8080/"
        },
        "id": "3s4OeCqQABHI",
        "outputId": "fac64000-2983-4de6-9e75-33493032c0cb"
      },
      "execution_count": null,
      "outputs": [
        {
          "output_type": "stream",
          "name": "stderr",
          "text": [
            "Installing package into ‘/usr/local/lib/R/site-library’\n",
            "(as ‘lib’ is unspecified)\n",
            "\n"
          ]
        }
      ]
    },
    {
      "cell_type": "code",
      "source": [
        "#criar tabela de frequências absolutas\n",
        "tabela1 <- table(dados$school, dados$address)\n",
        "tab_freq_abs <- rbind(\n",
        "  cbind(tabela1, margin.table(tabela1, 1)),\n",
        "   c(margin.table(tabela1,2), sum(margin.table(tabela1,1)))\n",
        ")\n",
        "#renomear linhas e colunas\n",
        "#nrow/ncol = garante que o último elemento da dimensão de linha/coluna seja renomeado, independentemente do número de categorias da variável\n",
        "dimnames(tab_freq_abs)[[1]][nrow(tab_freq_abs)] <- \"Total_linha\"\n",
        "dimnames(tab_freq_abs)[[2]][ncol(tab_freq_abs)] <- \"Total_coluna\"\n",
        "\n",
        "#mostrar tabela formatada\n",
        "kable(tab_freq_abs)"
      ],
      "metadata": {
        "colab": {
          "base_uri": "https://localhost:8080/",
          "height": 139
        },
        "id": "8vw7Xbw0HkB5",
        "outputId": "d64f5843-5c98-4621-c283-5130e3ae5c7f"
      },
      "execution_count": null,
      "outputs": [
        {
          "output_type": "display_data",
          "data": {
            "text/plain": [
              "\n",
              "\n",
              "|            |  R|   U| Total_coluna|\n",
              "|:-----------|--:|---:|------------:|\n",
              "|GP          | 63| 286|          349|\n",
              "|MS          | 25|  21|           46|\n",
              "|Total_linha | 88| 307|          395|"
            ]
          },
          "metadata": {}
        }
      ]
    },
    {
      "cell_type": "code",
      "source": [
        "tabela1 <- table(dados$fedu, dados$fjob)\n",
        "tab_freq_abs <- rbind(\n",
        "  cbind(tabela1, margin.table(tabela1, 1)),\n",
        "   c(margin.table(tabela1,2), sum(margin.table(tabela1,1)))\n",
        ")\n",
        "dimnames(tab_freq_abs)[[1]][nrow(tab_freq_abs)] <- \"Total_linha\"\n",
        "dimnames(tab_freq_abs)[[2]][ncol(tab_freq_abs)] <- \"Total_coluna\"\n",
        "kable(tab_freq_abs)"
      ],
      "metadata": {
        "colab": {
          "base_uri": "https://localhost:8080/",
          "height": 191
        },
        "id": "jEb446BtJMkP",
        "outputId": "c4f7d692-08a4-4293-e568-7d50f69e1441"
      },
      "execution_count": null,
      "outputs": [
        {
          "output_type": "display_data",
          "data": {
            "text/plain": [
              "\n",
              "\n",
              "|            | at_home| health| other| services| teacher| Total_coluna|\n",
              "|:-----------|-------:|------:|-----:|--------:|-------:|------------:|\n",
              "|nenhuma     |       0|      0|     2|        0|       0|            2|\n",
              "|primario    |       4|      1|    57|       19|       1|           82|\n",
              "|5a9         |       9|      3|    69|       34|       0|          115|\n",
              "|medio       |       3|      3|    58|       35|       1|          100|\n",
              "|superior    |       4|     11|    31|       23|      27|           96|\n",
              "|Total_linha |      20|     18|   217|      111|      29|          395|"
            ]
          },
          "metadata": {}
        }
      ]
    },
    {
      "cell_type": "code",
      "source": [
        "tabela1 <- table(dados$higher, dados$studytime)\n",
        "tab_freq_abs <- rbind(\n",
        "  cbind(tabela1, margin.table(tabela1, 1)),\n",
        "   c(margin.table(tabela1,2), sum(margin.table(tabela1,1)))\n",
        ")\n",
        "dimnames(tab_freq_abs)[[1]][nrow(tab_freq_abs)] <- \"Total_linha\"\n",
        "dimnames(tab_freq_abs)[[2]][ncol(tab_freq_abs)] <- \"Total_coluna\"\n",
        "kable(tab_freq_abs)"
      ],
      "metadata": {
        "colab": {
          "base_uri": "https://localhost:8080/",
          "height": 139
        },
        "id": "OSWsadVoeR30",
        "outputId": "5a4ab6f8-e00d-451c-a9be-6c898f7a2033"
      },
      "execution_count": null,
      "outputs": [
        {
          "output_type": "display_data",
          "data": {
            "text/plain": [
              "\n",
              "\n",
              "|            | <2h| 2-5h| 5-10h| >10h| Total_coluna|\n",
              "|:-----------|---:|----:|-----:|----:|------------:|\n",
              "|no          |  12|    8|     0|    0|           20|\n",
              "|yes         |  93|  190|    65|   27|          375|\n",
              "|Total_linha | 105|  198|    65|   27|          395|"
            ]
          },
          "metadata": {}
        }
      ]
    },
    {
      "cell_type": "markdown",
      "source": [
        "##**Correlação por qui quadrado** - variável qualitativa"
      ],
      "metadata": {
        "id": "UIeDoLn2WxEb"
      }
    },
    {
      "cell_type": "code",
      "source": [
        "tabela1 <- table(dados$failures, dados$famsup)\n",
        "chisq.test(tabela1)"
      ],
      "metadata": {
        "colab": {
          "base_uri": "https://localhost:8080/",
          "height": 104
        },
        "id": "8A4WP8HyKrGw",
        "outputId": "6f1d9de5-e1e3-4e7b-c46f-3e369cf4a1af"
      },
      "execution_count": null,
      "outputs": [
        {
          "output_type": "display_data",
          "data": {
            "text/plain": [
              "\n",
              "\tPearson's Chi-squared test\n",
              "\n",
              "data:  tabela1\n",
              "X-squared = 4.6147, df = 3, p-value = 0.2023\n"
            ]
          },
          "metadata": {}
        }
      ]
    },
    {
      "cell_type": "code",
      "source": [
        "tabela1 <- table(dados$pstatus, dados$guardian)\n",
        "chisq.test(tabela1)\n"
      ],
      "metadata": {
        "colab": {
          "base_uri": "https://localhost:8080/",
          "height": 139
        },
        "id": "c3F6C3g3KONl",
        "outputId": "8f75a4bb-ff92-475f-f7d8-658e2a977333"
      },
      "execution_count": null,
      "outputs": [
        {
          "output_type": "stream",
          "name": "stderr",
          "text": [
            "Warning message in chisq.test(tabela1):\n",
            "“Chi-squared approximation may be incorrect”\n"
          ]
        },
        {
          "output_type": "display_data",
          "data": {
            "text/plain": [
              "\n",
              "\tPearson's Chi-squared test\n",
              "\n",
              "data:  tabela1\n",
              "X-squared = 4.8831, df = 2, p-value = 0.08702\n"
            ]
          },
          "metadata": {}
        }
      ]
    },
    {
      "cell_type": "markdown",
      "source": [
        "02 quantitativas discretas -> gráfico de dispersão\n",
        "cálculo da correlação e teste"
      ],
      "metadata": {
        "id": "WNlG6to7Xa52"
      }
    },
    {
      "cell_type": "code",
      "source": [
        "plot(dados$g1, dados$g3,\n",
        "     main = \"Relação entre as notas\",\n",
        "     xlab = \"Notas 01\", ylab = \"Notas finais\",\n",
        "     pch = 16,\n",
        "     col = \"blue\",\n",
        "     cex = 1.0)"
      ],
      "metadata": {
        "id": "otIjVOh5XgrB",
        "colab": {
          "base_uri": "https://localhost:8080/",
          "height": 437
        },
        "outputId": "b80876b3-ad91-47a4-fd5e-01a99e058936"
      },
      "execution_count": null,
      "outputs": [
        {
          "output_type": "display_data",
          "data": {
            "text/plain": [
              "Plot with title “Relação entre as notas”"
            ],
            "image/png": "[encoded data removed]"
          },
          "metadata": {
            "image/png": {
              "width": 420,
              "height": 420
            }
          }
        }
      ]
    },
    {
      "cell_type": "code",
      "source": [
        "plot(dados$g2, dados$g3,\n",
        "     main = \"Relação entre as notas\",\n",
        "     xlab = \"Notas 02\", ylab = \"Notas finais\",\n",
        "     pch = 16,\n",
        "     col = \"orange\",\n",
        "     cex = 1.0)"
      ],
      "metadata": {
        "colab": {
          "base_uri": "https://localhost:8080/",
          "height": 437
        },
        "id": "JXO9FpS9ZdW0",
        "outputId": "d0099d6a-efb2-436d-a35a-faa015c9f674"
      },
      "execution_count": null,
      "outputs": [
        {
          "output_type": "display_data",
          "data": {
            "text/plain": [
              "Plot with title “Relação entre as notas”"
            ],
            "image/png": "[encoded data removed]"
          },
          "metadata": {
            "image/png": {
              "width": 420,
              "height": 420
            }
          }
        }
      ]
    },
    {
      "cell_type": "code",
      "source": [
        "cor(dados$g2, dados$g3)\n",
        "\n",
        "cor.test(dados$g2, dados$g3)"
      ],
      "metadata": {
        "colab": {
          "base_uri": "https://localhost:8080/",
          "height": 225
        },
        "id": "mlCex2PdZn3M",
        "outputId": "b0c67943-3c74-44f8-9e81-e9f71c75fd47"
      },
      "execution_count": null,
      "outputs": [
        {
          "output_type": "display_data",
          "data": {
            "text/html": [
              "0.904867989269301"
            ],
            "text/markdown": "0.904867989269301",
            "text/latex": "0.904867989269301",
            "text/plain": [
              "[1] 0.904868"
            ]
          },
          "metadata": {}
        },
        {
          "output_type": "display_data",
          "data": {
            "text/plain": [
              "\n",
              "\tPearson's product-moment correlation\n",
              "\n",
              "data:  dados$g2 and dados$g3\n",
              "t = 42.139, df = 393, p-value < 2.2e-16\n",
              "alternative hypothesis: true correlation is not equal to 0\n",
              "95 percent confidence interval:\n",
              " 0.8852345 0.9212830\n",
              "sample estimates:\n",
              "     cor \n",
              "0.904868 \n"
            ]
          },
          "metadata": {}
        }
      ]
    },
    {
      "cell_type": "markdown",
      "source": [
        "## **Relação entre qualitativa e quantitativa**"
      ],
      "metadata": {
        "id": "okoqdQt_dNkU"
      }
    },
    {
      "cell_type": "code",
      "source": [
        "summary_sal_inetr <- tapply(dados$absences, dados$address, summary)\n",
        "summary_sal_inetr"
      ],
      "metadata": {
        "colab": {
          "base_uri": "https://localhost:8080/",
          "height": 139
        },
        "id": "4cJXyqDedWBm",
        "outputId": "2b1e6356-c166-4d41-abfc-2507b64eb427"
      },
      "execution_count": null,
      "outputs": [
        {
          "output_type": "display_data",
          "data": {
            "text/plain": [
              "$R\n",
              "   Min. 1st Qu.  Median    Mean 3rd Qu.    Max. \n",
              "  0.000   1.000   4.000   6.125   8.000  75.000 \n",
              "\n",
              "$U\n",
              "   Min. 1st Qu.  Median    Mean 3rd Qu.    Max. \n",
              "   0.00    0.00    4.00    5.59    8.00   56.00 \n"
            ]
          },
          "metadata": {}
        }
      ]
    },
    {
      "cell_type": "code",
      "source": [
        "summary_sal_inetr <- tapply(dados$fedu, dados$fjob, summary)\n",
        "summary_sal_inetr"
      ],
      "metadata": {
        "colab": {
          "base_uri": "https://localhost:8080/",
          "height": 219
        },
        "id": "67AWQIRGapDk",
        "outputId": "942d8568-6e7c-4071-99dc-142b58896951"
      },
      "execution_count": null,
      "outputs": [
        {
          "output_type": "display_data",
          "data": {
            "text/html": [
              "<dl>\n",
              "\t<dt>$at_home</dt>\n",
              "\t\t<dd><style>\n",
              ".dl-inline {width: auto; margin:0; padding: 0}\n",
              ".dl-inline>dt, .dl-inline>dd {float: none; width: auto; display: inline-block}\n",
              ".dl-inline>dt::after {content: \":\\0020\"; padding-right: .5ex}\n",
              ".dl-inline>dt:not(:first-of-type) {padding-left: .5ex}\n",
              "</style><dl class=dl-inline><dt>nenhuma</dt><dd>0</dd><dt>primario</dt><dd>4</dd><dt>5a9</dt><dd>9</dd><dt>medio</dt><dd>3</dd><dt>superior</dt><dd>4</dd></dl>\n",
              "</dd>\n",
              "\t<dt>$health</dt>\n",
              "\t\t<dd><style>\n",
              ".dl-inline {width: auto; margin:0; padding: 0}\n",
              ".dl-inline>dt, .dl-inline>dd {float: none; width: auto; display: inline-block}\n",
              ".dl-inline>dt::after {content: \":\\0020\"; padding-right: .5ex}\n",
              ".dl-inline>dt:not(:first-of-type) {padding-left: .5ex}\n",
              "</style><dl class=dl-inline><dt>nenhuma</dt><dd>0</dd><dt>primario</dt><dd>1</dd><dt>5a9</dt><dd>3</dd><dt>medio</dt><dd>3</dd><dt>superior</dt><dd>11</dd></dl>\n",
              "</dd>\n",
              "\t<dt>$other</dt>\n",
              "\t\t<dd><style>\n",
              ".dl-inline {width: auto; margin:0; padding: 0}\n",
              ".dl-inline>dt, .dl-inline>dd {float: none; width: auto; display: inline-block}\n",
              ".dl-inline>dt::after {content: \":\\0020\"; padding-right: .5ex}\n",
              ".dl-inline>dt:not(:first-of-type) {padding-left: .5ex}\n",
              "</style><dl class=dl-inline><dt>nenhuma</dt><dd>2</dd><dt>primario</dt><dd>57</dd><dt>5a9</dt><dd>69</dd><dt>medio</dt><dd>58</dd><dt>superior</dt><dd>31</dd></dl>\n",
              "</dd>\n",
              "\t<dt>$services</dt>\n",
              "\t\t<dd><style>\n",
              ".dl-inline {width: auto; margin:0; padding: 0}\n",
              ".dl-inline>dt, .dl-inline>dd {float: none; width: auto; display: inline-block}\n",
              ".dl-inline>dt::after {content: \":\\0020\"; padding-right: .5ex}\n",
              ".dl-inline>dt:not(:first-of-type) {padding-left: .5ex}\n",
              "</style><dl class=dl-inline><dt>nenhuma</dt><dd>0</dd><dt>primario</dt><dd>19</dd><dt>5a9</dt><dd>34</dd><dt>medio</dt><dd>35</dd><dt>superior</dt><dd>23</dd></dl>\n",
              "</dd>\n",
              "\t<dt>$teacher</dt>\n",
              "\t\t<dd><style>\n",
              ".dl-inline {width: auto; margin:0; padding: 0}\n",
              ".dl-inline>dt, .dl-inline>dd {float: none; width: auto; display: inline-block}\n",
              ".dl-inline>dt::after {content: \":\\0020\"; padding-right: .5ex}\n",
              ".dl-inline>dt:not(:first-of-type) {padding-left: .5ex}\n",
              "</style><dl class=dl-inline><dt>nenhuma</dt><dd>0</dd><dt>primario</dt><dd>1</dd><dt>5a9</dt><dd>0</dd><dt>medio</dt><dd>1</dd><dt>superior</dt><dd>27</dd></dl>\n",
              "</dd>\n",
              "</dl>\n"
            ],
            "text/markdown": "$at_home\n:   nenhuma\n:   0primario\n:   45a9\n:   9medio\n:   3superior\n:   4\n\n\n$health\n:   nenhuma\n:   0primario\n:   15a9\n:   3medio\n:   3superior\n:   11\n\n\n$other\n:   nenhuma\n:   2primario\n:   575a9\n:   69medio\n:   58superior\n:   31\n\n\n$services\n:   nenhuma\n:   0primario\n:   195a9\n:   34medio\n:   35superior\n:   23\n\n\n$teacher\n:   nenhuma\n:   0primario\n:   15a9\n:   0medio\n:   1superior\n:   27\n\n\n\n\n",
            "text/latex": "\\begin{description}\n\\item[\\$at\\_home] \\begin{description*}\n\\item[nenhuma] 0\n\\item[primario] 4\n\\item[5a9] 9\n\\item[medio] 3\n\\item[superior] 4\n\\end{description*}\n\n\\item[\\$health] \\begin{description*}\n\\item[nenhuma] 0\n\\item[primario] 1\n\\item[5a9] 3\n\\item[medio] 3\n\\item[superior] 11\n\\end{description*}\n\n\\item[\\$other] \\begin{description*}\n\\item[nenhuma] 2\n\\item[primario] 57\n\\item[5a9] 69\n\\item[medio] 58\n\\item[superior] 31\n\\end{description*}\n\n\\item[\\$services] \\begin{description*}\n\\item[nenhuma] 0\n\\item[primario] 19\n\\item[5a9] 34\n\\item[medio] 35\n\\item[superior] 23\n\\end{description*}\n\n\\item[\\$teacher] \\begin{description*}\n\\item[nenhuma] 0\n\\item[primario] 1\n\\item[5a9] 0\n\\item[medio] 1\n\\item[superior] 27\n\\end{description*}\n\n\\end{description}\n",
            "text/plain": [
              "$at_home\n",
              " nenhuma primario      5a9    medio superior \n",
              "       0        4        9        3        4 \n",
              "\n",
              "$health\n",
              " nenhuma primario      5a9    medio superior \n",
              "       0        1        3        3       11 \n",
              "\n",
              "$other\n",
              " nenhuma primario      5a9    medio superior \n",
              "       2       57       69       58       31 \n",
              "\n",
              "$services\n",
              " nenhuma primario      5a9    medio superior \n",
              "       0       19       34       35       23 \n",
              "\n",
              "$teacher\n",
              " nenhuma primario      5a9    medio superior \n",
              "       0        1        0        1       27 \n"
            ]
          },
          "metadata": {}
        }
      ]
    },
    {
      "cell_type": "code",
      "source": [
        "summary_sal_inetr <- tapply(dados$sex, dados$address, summary)\n",
        "summary_sal_inetr"
      ],
      "metadata": {
        "colab": {
          "base_uri": "https://localhost:8080/",
          "height": 114
        },
        "id": "JaUkPEasaDcf",
        "outputId": "8739ead4-db93-455d-a719-192a1a11a432"
      },
      "execution_count": null,
      "outputs": [
        {
          "output_type": "display_data",
          "data": {
            "text/html": [
              "<dl>\n",
              "\t<dt>$R</dt>\n",
              "\t\t<dd><style>\n",
              ".dl-inline {width: auto; margin:0; padding: 0}\n",
              ".dl-inline>dt, .dl-inline>dd {float: none; width: auto; display: inline-block}\n",
              ".dl-inline>dt::after {content: \":\\0020\"; padding-right: .5ex}\n",
              ".dl-inline>dt:not(:first-of-type) {padding-left: .5ex}\n",
              "</style><dl class=dl-inline><dt>F</dt><dd>44</dd><dt>M</dt><dd>44</dd></dl>\n",
              "</dd>\n",
              "\t<dt>$U</dt>\n",
              "\t\t<dd><style>\n",
              ".dl-inline {width: auto; margin:0; padding: 0}\n",
              ".dl-inline>dt, .dl-inline>dd {float: none; width: auto; display: inline-block}\n",
              ".dl-inline>dt::after {content: \":\\0020\"; padding-right: .5ex}\n",
              ".dl-inline>dt:not(:first-of-type) {padding-left: .5ex}\n",
              "</style><dl class=dl-inline><dt>F</dt><dd>164</dd><dt>M</dt><dd>143</dd></dl>\n",
              "</dd>\n",
              "</dl>\n"
            ],
            "text/markdown": "$R\n:   F\n:   44M\n:   44\n\n\n$U\n:   F\n:   164M\n:   143\n\n\n\n\n",
            "text/latex": "\\begin{description}\n\\item[\\$R] \\begin{description*}\n\\item[F] 44\n\\item[M] 44\n\\end{description*}\n\n\\item[\\$U] \\begin{description*}\n\\item[F] 164\n\\item[M] 143\n\\end{description*}\n\n\\end{description}\n",
            "text/plain": [
              "$R\n",
              " F  M \n",
              "44 44 \n",
              "\n",
              "$U\n",
              "  F   M \n",
              "164 143 \n"
            ]
          },
          "metadata": {}
        }
      ]
    }
  ]
}